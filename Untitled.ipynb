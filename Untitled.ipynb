{
 "cells": [
  {
   "cell_type": "code",
   "execution_count": 1,
   "metadata": {},
   "outputs": [],
   "source": [
    "import numpy as np # linear algebra\n",
    "import pandas as pd # data processing, CSV file I/O (e.g. pd.read_csv)\n",
    "import plotly.express as px\n",
    "\n",
    "# Input data files are available in the \"../input/\" directory.\n",
    "# For example, running this (by clicking run or pressing Shift+Enter) will list all files under the input directory\n",
    "\n",
    "import os\n",
    "for dirname, _, filenames in os.walk('/kaggle/input'):\n",
    "    for filename in filenames:\n",
    "        print(os.path.join(dirname, filename))\n"
   ]
  },
  {
   "cell_type": "code",
   "execution_count": 5,
   "metadata": {},
   "outputs": [],
   "source": [
    "teachers = pd.read_csv('Teachers.csv')\n",
    "donations = pd.read_csv('Donations.csv')\n",
    "projects = pd.read_csv('Projects.csv')\n",
    "resources = pd.read_csv('Resources.csv')\n",
    "schools = pd.read_csv('Schools.csv')\n",
    "donors = pd.read_csv('Donors.csv')\n",
    "#cities = pd.read_csv('uscities.csv')"
   ]
  },
  {
   "cell_type": "code",
   "execution_count": 6,
   "metadata": {},
   "outputs": [],
   "source": [
    "projects['Year Posted'] = pd.DatetimeIndex(projects['Project Posted Date']).year\n",
    "projects['Month Posted'] = pd.DatetimeIndex(projects['Project Posted Date']).month"
   ]
  },
  {
   "cell_type": "code",
   "execution_count": 8,
   "metadata": {},
   "outputs": [
    {
     "data": {
      "text/html": [
       "<div>\n",
       "<style scoped>\n",
       "    .dataframe tbody tr th:only-of-type {\n",
       "        vertical-align: middle;\n",
       "    }\n",
       "\n",
       "    .dataframe tbody tr th {\n",
       "        vertical-align: top;\n",
       "    }\n",
       "\n",
       "    .dataframe thead th {\n",
       "        text-align: right;\n",
       "    }\n",
       "</style>\n",
       "<table border=\"1\" class=\"dataframe\">\n",
       "  <thead>\n",
       "    <tr style=\"text-align: right;\">\n",
       "      <th></th>\n",
       "      <th>Project ID</th>\n",
       "      <th>School ID</th>\n",
       "      <th>Teacher ID</th>\n",
       "      <th>Teacher Project Posted Sequence</th>\n",
       "      <th>Project Type</th>\n",
       "      <th>Project Title</th>\n",
       "      <th>Project Essay</th>\n",
       "      <th>Project Short Description</th>\n",
       "      <th>Project Need Statement</th>\n",
       "      <th>Project Subject Category Tree</th>\n",
       "      <th>Project Subject Subcategory Tree</th>\n",
       "      <th>Project Grade Level Category</th>\n",
       "      <th>Project Resource Category</th>\n",
       "      <th>Project Cost</th>\n",
       "      <th>Project Posted Date</th>\n",
       "      <th>Project Expiration Date</th>\n",
       "      <th>Project Current Status</th>\n",
       "      <th>Project Fully Funded Date</th>\n",
       "      <th>Year Posted</th>\n",
       "      <th>Month Posted</th>\n",
       "    </tr>\n",
       "  </thead>\n",
       "  <tbody>\n",
       "    <tr>\n",
       "      <th>0</th>\n",
       "      <td>7685f0265a19d7b52a470ee4bac883ba</td>\n",
       "      <td>e180c7424cb9c68cb49f141b092a988f</td>\n",
       "      <td>4ee5200e89d9e2998ec8baad8a3c5968</td>\n",
       "      <td>25</td>\n",
       "      <td>Teacher-Led</td>\n",
       "      <td>Stand Up to Bullying: Together We Can!</td>\n",
       "      <td>Did you know that 1-7 students in grades K-12 ...</td>\n",
       "      <td>Did you know that 1-7 students in grades K-12 ...</td>\n",
       "      <td>My students need 25 copies of \"Bullying in Sch...</td>\n",
       "      <td>Applied Learning</td>\n",
       "      <td>Character Education, Early Development</td>\n",
       "      <td>Grades PreK-2</td>\n",
       "      <td>Technology</td>\n",
       "      <td>361.80</td>\n",
       "      <td>2013-01-01</td>\n",
       "      <td>2013-05-30</td>\n",
       "      <td>Fully Funded</td>\n",
       "      <td>2013-01-11</td>\n",
       "      <td>2013</td>\n",
       "      <td>1</td>\n",
       "    </tr>\n",
       "    <tr>\n",
       "      <th>1</th>\n",
       "      <td>f9f4af7099061fb4bf44642a03e5c331</td>\n",
       "      <td>08b20f1e2125103ed7aa17e8d76c71d4</td>\n",
       "      <td>cca2d1d277fb4adb50147b49cdc3b156</td>\n",
       "      <td>3</td>\n",
       "      <td>Teacher-Led</td>\n",
       "      <td>Learning in Color!</td>\n",
       "      <td>Help us have a fun, interactive listening cent...</td>\n",
       "      <td>Help us have a fun, interactive listening cent...</td>\n",
       "      <td>My students need a listening center, read alon...</td>\n",
       "      <td>Applied Learning, Literacy &amp; Language</td>\n",
       "      <td>Early Development, Literacy</td>\n",
       "      <td>Grades PreK-2</td>\n",
       "      <td>Technology</td>\n",
       "      <td>512.85</td>\n",
       "      <td>2013-01-01</td>\n",
       "      <td>2013-05-31</td>\n",
       "      <td>Expired</td>\n",
       "      <td>NaN</td>\n",
       "      <td>2013</td>\n",
       "      <td>1</td>\n",
       "    </tr>\n",
       "    <tr>\n",
       "      <th>2</th>\n",
       "      <td>afd99a01739ad5557b51b1ba0174e832</td>\n",
       "      <td>1287f5128b1f36bf8434e5705a7cc04d</td>\n",
       "      <td>6c5bd0d4f20547a001628aefd71de89e</td>\n",
       "      <td>1</td>\n",
       "      <td>Teacher-Led</td>\n",
       "      <td>Help Second Grade ESL Students Develop Languag...</td>\n",
       "      <td>Visiting or moving to a new place can be very ...</td>\n",
       "      <td>Visiting or moving to a new place can be very ...</td>\n",
       "      <td>My students need beginning vocabulary audio ca...</td>\n",
       "      <td>Literacy &amp; Language</td>\n",
       "      <td>ESL</td>\n",
       "      <td>Grades PreK-2</td>\n",
       "      <td>Supplies</td>\n",
       "      <td>435.92</td>\n",
       "      <td>2013-01-01</td>\n",
       "      <td>2013-05-30</td>\n",
       "      <td>Fully Funded</td>\n",
       "      <td>2013-05-22</td>\n",
       "      <td>2013</td>\n",
       "      <td>1</td>\n",
       "    </tr>\n",
       "    <tr>\n",
       "      <th>3</th>\n",
       "      <td>c614a38bb1a5e68e2ae6ad9d94bb2492</td>\n",
       "      <td>900fec9cd7a3188acbc90586a09584ef</td>\n",
       "      <td>8ed6f8181d092a8f4c008b18d18e54ad</td>\n",
       "      <td>40</td>\n",
       "      <td>Teacher-Led</td>\n",
       "      <td>Help Bilingual Students Strengthen Reading Com...</td>\n",
       "      <td>Students at our school are still working hard ...</td>\n",
       "      <td>Students at our school are still working hard ...</td>\n",
       "      <td>My students need one copy of each book in The ...</td>\n",
       "      <td>Literacy &amp; Language</td>\n",
       "      <td>ESL, Literacy</td>\n",
       "      <td>Grades 3-5</td>\n",
       "      <td>Books</td>\n",
       "      <td>161.26</td>\n",
       "      <td>2013-01-01</td>\n",
       "      <td>2013-05-31</td>\n",
       "      <td>Fully Funded</td>\n",
       "      <td>2013-02-06</td>\n",
       "      <td>2013</td>\n",
       "      <td>1</td>\n",
       "    </tr>\n",
       "    <tr>\n",
       "      <th>4</th>\n",
       "      <td>ec82a697fab916c0db0cdad746338df9</td>\n",
       "      <td>3b200e7fe3e6dde3c169c02e5fb5ae86</td>\n",
       "      <td>893173d62775f8be7c30bf4220ad0c33</td>\n",
       "      <td>2</td>\n",
       "      <td>Teacher-Led</td>\n",
       "      <td>Help Us Make Each Minute Count!</td>\n",
       "      <td>\"Idle hands\" were something that Issac Watts s...</td>\n",
       "      <td>\"Idle hands\" were something that Issac Watts s...</td>\n",
       "      <td>My students need items such as Velcro, two pou...</td>\n",
       "      <td>Special Needs</td>\n",
       "      <td>Special Needs</td>\n",
       "      <td>Grades 3-5</td>\n",
       "      <td>Supplies</td>\n",
       "      <td>264.19</td>\n",
       "      <td>2013-01-01</td>\n",
       "      <td>2013-05-30</td>\n",
       "      <td>Fully Funded</td>\n",
       "      <td>2013-01-01</td>\n",
       "      <td>2013</td>\n",
       "      <td>1</td>\n",
       "    </tr>\n",
       "  </tbody>\n",
       "</table>\n",
       "</div>"
      ],
      "text/plain": [
       "                         Project ID                         School ID  \\\n",
       "0  7685f0265a19d7b52a470ee4bac883ba  e180c7424cb9c68cb49f141b092a988f   \n",
       "1  f9f4af7099061fb4bf44642a03e5c331  08b20f1e2125103ed7aa17e8d76c71d4   \n",
       "2  afd99a01739ad5557b51b1ba0174e832  1287f5128b1f36bf8434e5705a7cc04d   \n",
       "3  c614a38bb1a5e68e2ae6ad9d94bb2492  900fec9cd7a3188acbc90586a09584ef   \n",
       "4  ec82a697fab916c0db0cdad746338df9  3b200e7fe3e6dde3c169c02e5fb5ae86   \n",
       "\n",
       "                         Teacher ID  Teacher Project Posted Sequence  \\\n",
       "0  4ee5200e89d9e2998ec8baad8a3c5968                               25   \n",
       "1  cca2d1d277fb4adb50147b49cdc3b156                                3   \n",
       "2  6c5bd0d4f20547a001628aefd71de89e                                1   \n",
       "3  8ed6f8181d092a8f4c008b18d18e54ad                               40   \n",
       "4  893173d62775f8be7c30bf4220ad0c33                                2   \n",
       "\n",
       "  Project Type                                      Project Title  \\\n",
       "0  Teacher-Led             Stand Up to Bullying: Together We Can!   \n",
       "1  Teacher-Led                                 Learning in Color!   \n",
       "2  Teacher-Led  Help Second Grade ESL Students Develop Languag...   \n",
       "3  Teacher-Led  Help Bilingual Students Strengthen Reading Com...   \n",
       "4  Teacher-Led                   Help Us Make Each Minute Count!    \n",
       "\n",
       "                                       Project Essay  \\\n",
       "0  Did you know that 1-7 students in grades K-12 ...   \n",
       "1  Help us have a fun, interactive listening cent...   \n",
       "2  Visiting or moving to a new place can be very ...   \n",
       "3  Students at our school are still working hard ...   \n",
       "4  \"Idle hands\" were something that Issac Watts s...   \n",
       "\n",
       "                           Project Short Description  \\\n",
       "0  Did you know that 1-7 students in grades K-12 ...   \n",
       "1  Help us have a fun, interactive listening cent...   \n",
       "2  Visiting or moving to a new place can be very ...   \n",
       "3  Students at our school are still working hard ...   \n",
       "4  \"Idle hands\" were something that Issac Watts s...   \n",
       "\n",
       "                              Project Need Statement  \\\n",
       "0  My students need 25 copies of \"Bullying in Sch...   \n",
       "1  My students need a listening center, read alon...   \n",
       "2  My students need beginning vocabulary audio ca...   \n",
       "3  My students need one copy of each book in The ...   \n",
       "4  My students need items such as Velcro, two pou...   \n",
       "\n",
       "           Project Subject Category Tree  \\\n",
       "0                       Applied Learning   \n",
       "1  Applied Learning, Literacy & Language   \n",
       "2                    Literacy & Language   \n",
       "3                    Literacy & Language   \n",
       "4                          Special Needs   \n",
       "\n",
       "         Project Subject Subcategory Tree Project Grade Level Category  \\\n",
       "0  Character Education, Early Development                Grades PreK-2   \n",
       "1             Early Development, Literacy                Grades PreK-2   \n",
       "2                                     ESL                Grades PreK-2   \n",
       "3                           ESL, Literacy                   Grades 3-5   \n",
       "4                           Special Needs                   Grades 3-5   \n",
       "\n",
       "  Project Resource Category  Project Cost Project Posted Date  \\\n",
       "0                Technology        361.80          2013-01-01   \n",
       "1                Technology        512.85          2013-01-01   \n",
       "2                  Supplies        435.92          2013-01-01   \n",
       "3                     Books        161.26          2013-01-01   \n",
       "4                  Supplies        264.19          2013-01-01   \n",
       "\n",
       "  Project Expiration Date Project Current Status Project Fully Funded Date  \\\n",
       "0              2013-05-30           Fully Funded                2013-01-11   \n",
       "1              2013-05-31                Expired                       NaN   \n",
       "2              2013-05-30           Fully Funded                2013-05-22   \n",
       "3              2013-05-31           Fully Funded                2013-02-06   \n",
       "4              2013-05-30           Fully Funded                2013-01-01   \n",
       "\n",
       "   Year Posted  Month Posted  \n",
       "0         2013             1  \n",
       "1         2013             1  \n",
       "2         2013             1  \n",
       "3         2013             1  \n",
       "4         2013             1  "
      ]
     },
     "execution_count": 8,
     "metadata": {},
     "output_type": "execute_result"
    }
   ],
   "source": [
    "projects.head()"
   ]
  },
  {
   "cell_type": "code",
   "execution_count": 13,
   "metadata": {},
   "outputs": [],
   "source": [
    "num_projects_posted = projects.groupby(['Year Posted','Month Posted'])['Project ID'].count().reset_index()"
   ]
  },
  {
   "cell_type": "code",
   "execution_count": 16,
   "metadata": {},
   "outputs": [],
   "source": [
    "#num_projects_posted\n",
    "num_projects_posted= num_projects_posted.rename(columns={'Project ID': 'Num Projects'})"
   ]
  },
  {
   "cell_type": "code",
   "execution_count": 21,
   "metadata": {},
   "outputs": [
    {
     "data": {
      "text/plain": [
       "<matplotlib.axes._subplots.AxesSubplot at 0x11a4b3b50>"
      ]
     },
     "execution_count": 21,
     "metadata": {},
     "output_type": "execute_result"
    },
    {
     "data": {
      "image/png": "[encoded data removed]",
      "text/plain": [
       "<Figure size 432x288 with 1 Axes>"
      ]
     },
     "metadata": {
      "needs_background": "light"
     },
     "output_type": "display_data"
    }
   ],
   "source": [
    "num_projects_posted.groupby('Month Posted')['Num Projects'].mean().plot.line(title='Average Number of Projects Posted')"
   ]
  },
  {
   "cell_type": "code",
   "execution_count": 31,
   "metadata": {},
   "outputs": [
    {
     "data": {
      "text/html": [
       "<div>\n",
       "<style scoped>\n",
       "    .dataframe tbody tr th:only-of-type {\n",
       "        vertical-align: middle;\n",
       "    }\n",
       "\n",
       "    .dataframe tbody tr th {\n",
       "        vertical-align: top;\n",
       "    }\n",
       "\n",
       "    .dataframe thead th {\n",
       "        text-align: right;\n",
       "    }\n",
       "</style>\n",
       "<table border=\"1\" class=\"dataframe\">\n",
       "  <thead>\n",
       "    <tr style=\"text-align: right;\">\n",
       "      <th></th>\n",
       "      <th>Year Posted</th>\n",
       "      <th>Month Posted</th>\n",
       "      <th>Num Projects</th>\n",
       "    </tr>\n",
       "  </thead>\n",
       "  <tbody>\n",
       "    <tr>\n",
       "      <th>0</th>\n",
       "      <td>2013</td>\n",
       "      <td>1</td>\n",
       "      <td>5684</td>\n",
       "    </tr>\n",
       "    <tr>\n",
       "      <th>1</th>\n",
       "      <td>2013</td>\n",
       "      <td>2</td>\n",
       "      <td>6067</td>\n",
       "    </tr>\n",
       "    <tr>\n",
       "      <th>2</th>\n",
       "      <td>2013</td>\n",
       "      <td>3</td>\n",
       "      <td>5050</td>\n",
       "    </tr>\n",
       "    <tr>\n",
       "      <th>3</th>\n",
       "      <td>2013</td>\n",
       "      <td>4</td>\n",
       "      <td>4300</td>\n",
       "    </tr>\n",
       "    <tr>\n",
       "      <th>4</th>\n",
       "      <td>2013</td>\n",
       "      <td>5</td>\n",
       "      <td>4415</td>\n",
       "    </tr>\n",
       "    <tr>\n",
       "      <th>...</th>\n",
       "      <td>...</td>\n",
       "      <td>...</td>\n",
       "      <td>...</td>\n",
       "    </tr>\n",
       "    <tr>\n",
       "      <th>60</th>\n",
       "      <td>2018</td>\n",
       "      <td>1</td>\n",
       "      <td>27454</td>\n",
       "    </tr>\n",
       "    <tr>\n",
       "      <th>61</th>\n",
       "      <td>2018</td>\n",
       "      <td>2</td>\n",
       "      <td>20474</td>\n",
       "    </tr>\n",
       "    <tr>\n",
       "      <th>62</th>\n",
       "      <td>2018</td>\n",
       "      <td>3</td>\n",
       "      <td>25033</td>\n",
       "    </tr>\n",
       "    <tr>\n",
       "      <th>63</th>\n",
       "      <td>2018</td>\n",
       "      <td>4</td>\n",
       "      <td>14570</td>\n",
       "    </tr>\n",
       "    <tr>\n",
       "      <th>64</th>\n",
       "      <td>2018</td>\n",
       "      <td>5</td>\n",
       "      <td>271</td>\n",
       "    </tr>\n",
       "  </tbody>\n",
       "</table>\n",
       "<p>65 rows × 3 columns</p>\n",
       "</div>"
      ],
      "text/plain": [
       "    Year Posted  Month Posted  Num Projects\n",
       "0          2013             1          5684\n",
       "1          2013             2          6067\n",
       "2          2013             3          5050\n",
       "3          2013             4          4300\n",
       "4          2013             5          4415\n",
       "..          ...           ...           ...\n",
       "60         2018             1         27454\n",
       "61         2018             2         20474\n",
       "62         2018             3         25033\n",
       "63         2018             4         14570\n",
       "64         2018             5           271\n",
       "\n",
       "[65 rows x 3 columns]"
      ]
     },
     "execution_count": 31,
     "metadata": {},
     "output_type": "execute_result"
    }
   ],
   "source": [
    "num_projects_funded = projects[projects['Project Current Status'] == 'Fully Funded'].groupby(['Year Posted','Month Posted'])['Project ID'].count().reset_index().rename(columns={'Project ID': 'Num Projects'})\n",
    "num_projects_funded"
   ]
  },
  {
   "cell_type": "code",
   "execution_count": 47,
   "metadata": {},
   "outputs": [],
   "source": [
    "projects_merged = num_projects_posted.merge(num_projects_funded, left_on=['Year Posted', 'Month Posted'],right_on=['Year Posted', 'Month Posted']).rename(columns={'Num Projects_x':'Num Posted',\n",
    "                                    'Num Projects_y':'Num Funded'})"
   ]
  },
  {
   "cell_type": "code",
   "execution_count": 50,
   "metadata": {},
   "outputs": [
    {
     "data": {
      "text/html": [
       "<div>\n",
       "<style scoped>\n",
       "    .dataframe tbody tr th:only-of-type {\n",
       "        vertical-align: middle;\n",
       "    }\n",
       "\n",
       "    .dataframe tbody tr th {\n",
       "        vertical-align: top;\n",
       "    }\n",
       "\n",
       "    .dataframe thead th {\n",
       "        text-align: right;\n",
       "    }\n",
       "</style>\n",
       "<table border=\"1\" class=\"dataframe\">\n",
       "  <thead>\n",
       "    <tr style=\"text-align: right;\">\n",
       "      <th></th>\n",
       "      <th>Year Posted</th>\n",
       "      <th>Month Posted</th>\n",
       "      <th>Num Posted</th>\n",
       "      <th>Num Funded</th>\n",
       "      <th>% Funded</th>\n",
       "    </tr>\n",
       "  </thead>\n",
       "  <tbody>\n",
       "    <tr>\n",
       "      <th>0</th>\n",
       "      <td>2013</td>\n",
       "      <td>1</td>\n",
       "      <td>7792</td>\n",
       "      <td>5684</td>\n",
       "      <td>0.729466</td>\n",
       "    </tr>\n",
       "    <tr>\n",
       "      <th>1</th>\n",
       "      <td>2013</td>\n",
       "      <td>2</td>\n",
       "      <td>8325</td>\n",
       "      <td>6067</td>\n",
       "      <td>0.728769</td>\n",
       "    </tr>\n",
       "    <tr>\n",
       "      <th>2</th>\n",
       "      <td>2013</td>\n",
       "      <td>3</td>\n",
       "      <td>7023</td>\n",
       "      <td>5050</td>\n",
       "      <td>0.719066</td>\n",
       "    </tr>\n",
       "    <tr>\n",
       "      <th>3</th>\n",
       "      <td>2013</td>\n",
       "      <td>4</td>\n",
       "      <td>5931</td>\n",
       "      <td>4300</td>\n",
       "      <td>0.725004</td>\n",
       "    </tr>\n",
       "    <tr>\n",
       "      <th>4</th>\n",
       "      <td>2013</td>\n",
       "      <td>5</td>\n",
       "      <td>6305</td>\n",
       "      <td>4415</td>\n",
       "      <td>0.700238</td>\n",
       "    </tr>\n",
       "    <tr>\n",
       "      <th>...</th>\n",
       "      <td>...</td>\n",
       "      <td>...</td>\n",
       "      <td>...</td>\n",
       "      <td>...</td>\n",
       "      <td>...</td>\n",
       "    </tr>\n",
       "    <tr>\n",
       "      <th>60</th>\n",
       "      <td>2018</td>\n",
       "      <td>1</td>\n",
       "      <td>27743</td>\n",
       "      <td>27454</td>\n",
       "      <td>0.989583</td>\n",
       "    </tr>\n",
       "    <tr>\n",
       "      <th>61</th>\n",
       "      <td>2018</td>\n",
       "      <td>2</td>\n",
       "      <td>20637</td>\n",
       "      <td>20474</td>\n",
       "      <td>0.992102</td>\n",
       "    </tr>\n",
       "    <tr>\n",
       "      <th>62</th>\n",
       "      <td>2018</td>\n",
       "      <td>3</td>\n",
       "      <td>39275</td>\n",
       "      <td>25033</td>\n",
       "      <td>0.637377</td>\n",
       "    </tr>\n",
       "    <tr>\n",
       "      <th>63</th>\n",
       "      <td>2018</td>\n",
       "      <td>4</td>\n",
       "      <td>41719</td>\n",
       "      <td>14570</td>\n",
       "      <td>0.349241</td>\n",
       "    </tr>\n",
       "    <tr>\n",
       "      <th>64</th>\n",
       "      <td>2018</td>\n",
       "      <td>5</td>\n",
       "      <td>980</td>\n",
       "      <td>271</td>\n",
       "      <td>0.276531</td>\n",
       "    </tr>\n",
       "  </tbody>\n",
       "</table>\n",
       "<p>65 rows × 5 columns</p>\n",
       "</div>"
      ],
      "text/plain": [
       "    Year Posted  Month Posted  Num Posted  Num Funded  % Funded\n",
       "0          2013             1        7792        5684  0.729466\n",
       "1          2013             2        8325        6067  0.728769\n",
       "2          2013             3        7023        5050  0.719066\n",
       "3          2013             4        5931        4300  0.725004\n",
       "4          2013             5        6305        4415  0.700238\n",
       "..          ...           ...         ...         ...       ...\n",
       "60         2018             1       27743       27454  0.989583\n",
       "61         2018             2       20637       20474  0.992102\n",
       "62         2018             3       39275       25033  0.637377\n",
       "63         2018             4       41719       14570  0.349241\n",
       "64         2018             5         980         271  0.276531\n",
       "\n",
       "[65 rows x 5 columns]"
      ]
     },
     "execution_count": 50,
     "metadata": {},
     "output_type": "execute_result"
    }
   ],
   "source": [
    "projects_merged['% Funded'] = projects_merged['Num Funded'] / projects_merged['Num Posted']\n",
    "projects_merged"
   ]
  },
  {
   "cell_type": "code",
   "execution_count": 51,
   "metadata": {},
   "outputs": [
    {
     "data": {
      "text/plain": [
       "<matplotlib.axes._subplots.AxesSubplot at 0x118e69a90>"
      ]
     },
     "execution_count": 51,
     "metadata": {},
     "output_type": "execute_result"
    },
    {
     "data": {
      "image/png": "[encoded data removed]",
      "text/plain": [
       "<Figure size 432x288 with 1 Axes>"
      ]
     },
     "metadata": {
      "needs_background": "light"
     },
     "output_type": "display_data"
    }
   ],
   "source": [
    "projects_merged.groupby('Month Posted')['% Funded'].mean().plot.line(title='Average Percentage Project Funded')"
   ]
  },
  {
   "cell_type": "code",
   "execution_count": 54,
   "metadata": {},
   "outputs": [
    {
     "data": {
      "text/plain": [
       "Project Current Status\n",
       "Expired         241402\n",
       "Fully Funded    826764\n",
       "Live             41851\n",
       "Name: Project Current Status, dtype: int64"
      ]
     },
     "execution_count": 54,
     "metadata": {},
     "output_type": "execute_result"
    }
   ],
   "source": [
    "projects.groupby('Project Current Status')['Project Current Status'].count()"
   ]
  },
  {
   "cell_type": "code",
   "execution_count": 55,
   "metadata": {},
   "outputs": [
    {
     "data": {
      "text/plain": [
       "Project Current Status\n",
       "Expired         0.217476\n",
       "Fully Funded    0.744821\n",
       "Live            0.037703\n",
       "Name: Project Current Status, dtype: float64"
      ]
     },
     "execution_count": 55,
     "metadata": {},
     "output_type": "execute_result"
    }
   ],
   "source": [
    "status_percentage = projects.groupby('Project Current Status')['Project Current Status'].count() / projects['Project Current Status'].count()#percentage of each status\n",
    "status_percentage"
   ]
  },
  {
   "cell_type": "code",
   "execution_count": 60,
   "metadata": {},
   "outputs": [
    {
     "data": {
      "text/plain": [
       "<matplotlib.axes._subplots.AxesSubplot at 0x1252eff70>"
      ]
     },
     "execution_count": 60,
     "metadata": {},
     "output_type": "execute_result"
    },
    {
     "data": {
      "image/png": "[encoded data removed]",
      "text/plain": [
       "<Figure size 432x288 with 1 Axes>"
      ]
     },
     "metadata": {},
     "output_type": "display_data"
    }
   ],
   "source": [
    "status_percentage.plot.pie(title='Project Current Status', autopct='%1.0f%%',label='')"
   ]
  },
  {
   "cell_type": "code",
   "execution_count": 63,
   "metadata": {},
   "outputs": [],
   "source": [
    "merged = projects.merge(schools, left_on='School ID', right_on='School ID')"
   ]
  },
  {
   "cell_type": "code",
   "execution_count": 115,
   "metadata": {},
   "outputs": [],
   "source": [
    "free_lunch = merged[merged['Project Current Status'] == 'Fully Funded'].groupby('School Percentage Free Lunch')['Project ID'].count()\\\n",
    "/merged.groupby('School Percentage Free Lunch')['Project ID'].count()\n"
   ]
  },
  {
   "cell_type": "code",
   "execution_count": 116,
   "metadata": {},
   "outputs": [
    {
     "data": {
      "text/plain": [
       "School Percentage Free Lunch\n",
       "0.0      0.662791\n",
       "1.0      0.754786\n",
       "2.0      0.752947\n",
       "3.0      0.744378\n",
       "4.0      0.754298\n",
       "           ...   \n",
       "96.0     0.779635\n",
       "97.0     0.805921\n",
       "98.0     0.828673\n",
       "99.0     0.836344\n",
       "100.0    0.863474\n",
       "Name: Project ID, Length: 101, dtype: float64"
      ]
     },
     "execution_count": 116,
     "metadata": {},
     "output_type": "execute_result"
    }
   ],
   "source": [
    "free_lunch"
   ]
  },
  {
   "cell_type": "code",
   "execution_count": 117,
   "metadata": {},
   "outputs": [],
   "source": [
    "free_lunch = free_lunch.reset_index().rename(columns={'Project ID':'% Projects'})"
   ]
  },
  {
   "cell_type": "code",
   "execution_count": 118,
   "metadata": {},
   "outputs": [
    {
     "data": {
      "text/html": [
       "<div>\n",
       "<style scoped>\n",
       "    .dataframe tbody tr th:only-of-type {\n",
       "        vertical-align: middle;\n",
       "    }\n",
       "\n",
       "    .dataframe tbody tr th {\n",
       "        vertical-align: top;\n",
       "    }\n",
       "\n",
       "    .dataframe thead th {\n",
       "        text-align: right;\n",
       "    }\n",
       "</style>\n",
       "<table border=\"1\" class=\"dataframe\">\n",
       "  <thead>\n",
       "    <tr style=\"text-align: right;\">\n",
       "      <th></th>\n",
       "      <th>School Percentage Free Lunch</th>\n",
       "      <th>% Projects</th>\n",
       "    </tr>\n",
       "  </thead>\n",
       "  <tbody>\n",
       "    <tr>\n",
       "      <th>0</th>\n",
       "      <td>0.0</td>\n",
       "      <td>0.662791</td>\n",
       "    </tr>\n",
       "    <tr>\n",
       "      <th>1</th>\n",
       "      <td>1.0</td>\n",
       "      <td>0.754786</td>\n",
       "    </tr>\n",
       "    <tr>\n",
       "      <th>2</th>\n",
       "      <td>2.0</td>\n",
       "      <td>0.752947</td>\n",
       "    </tr>\n",
       "    <tr>\n",
       "      <th>3</th>\n",
       "      <td>3.0</td>\n",
       "      <td>0.744378</td>\n",
       "    </tr>\n",
       "    <tr>\n",
       "      <th>4</th>\n",
       "      <td>4.0</td>\n",
       "      <td>0.754298</td>\n",
       "    </tr>\n",
       "    <tr>\n",
       "      <th>...</th>\n",
       "      <td>...</td>\n",
       "      <td>...</td>\n",
       "    </tr>\n",
       "    <tr>\n",
       "      <th>96</th>\n",
       "      <td>96.0</td>\n",
       "      <td>0.779635</td>\n",
       "    </tr>\n",
       "    <tr>\n",
       "      <th>97</th>\n",
       "      <td>97.0</td>\n",
       "      <td>0.805921</td>\n",
       "    </tr>\n",
       "    <tr>\n",
       "      <th>98</th>\n",
       "      <td>98.0</td>\n",
       "      <td>0.828673</td>\n",
       "    </tr>\n",
       "    <tr>\n",
       "      <th>99</th>\n",
       "      <td>99.0</td>\n",
       "      <td>0.836344</td>\n",
       "    </tr>\n",
       "    <tr>\n",
       "      <th>100</th>\n",
       "      <td>100.0</td>\n",
       "      <td>0.863474</td>\n",
       "    </tr>\n",
       "  </tbody>\n",
       "</table>\n",
       "<p>101 rows × 2 columns</p>\n",
       "</div>"
      ],
      "text/plain": [
       "     School Percentage Free Lunch  % Projects\n",
       "0                             0.0    0.662791\n",
       "1                             1.0    0.754786\n",
       "2                             2.0    0.752947\n",
       "3                             3.0    0.744378\n",
       "4                             4.0    0.754298\n",
       "..                            ...         ...\n",
       "96                           96.0    0.779635\n",
       "97                           97.0    0.805921\n",
       "98                           98.0    0.828673\n",
       "99                           99.0    0.836344\n",
       "100                         100.0    0.863474\n",
       "\n",
       "[101 rows x 2 columns]"
      ]
     },
     "execution_count": 118,
     "metadata": {},
     "output_type": "execute_result"
    }
   ],
   "source": [
    "free_lunch"
   ]
  },
  {
   "cell_type": "code",
   "execution_count": 119,
   "metadata": {},
   "outputs": [
    {
     "data": {
      "text/plain": [
       "<matplotlib.axes._subplots.AxesSubplot at 0x11814cc40>"
      ]
     },
     "execution_count": 119,
     "metadata": {},
     "output_type": "execute_result"
    },
    {
     "data": {
      "image/png": "[encoded data removed]",
      "text/plain": [
       "<Figure size 432x288 with 1 Axes>"
      ]
     },
     "metadata": {
      "needs_background": "light"
     },
     "output_type": "display_data"
    }
   ],
   "source": [
    "free_lunch.reset_index().plot.scatter('School Percentage Free Lunch', '% Projects')"
   ]
  },
  {
   "cell_type": "code",
   "execution_count": 120,
   "metadata": {},
   "outputs": [
    {
     "data": {
      "application/vnd.plotly.v1+json": {
       "config": {
        "plotlyServerURL": "https://plot.ly"
       },
       "data": [
        {
         "hovertemplate": "x=%{x}<br>y=%{y}<extra></extra>",
         "legendgroup": "",
         "marker": {
          "color": "#636efa",
          "symbol": "circle"
         },
         "mode": "markers",
         "name": "",
         "orientation": "v",
         "showlegend": false,
         "type": "scatter",
         "x": [
          0,
          1,
          2,
          3,
          4,
          5,
          6,
          7,
          8,
          9,
          10,
          11,
          12,
          13,
          14,
          15,
          16,
          17,
          18,
          19,
          20,
          21,
          22,
          23,
          24,
          25,
          26,
          27,
          28,
          29,
          30,
          31,
          32,
          33,
          34,
          35,
          36,
          37,
          38,
          39,
          40,
          41,
          42,
          43,
          44,
          45,
          46,
          47,
          48,
          49,
          50,
          51,
          52,
          53,
          54,
          55,
          56,
          57,
          58,
          59,
          60,
          61,
          62,
          63,
          64,
          65,
          66,
          67,
          68,
          69,
          70,
          71,
          72,
          73,
          74,
          75,
          76,
          77,
          78,
          79,
          80,
          81,
          82,
          83,
          84,
          85,
          86,
          87,
          88,
          89,
          90,
          91,
          92,
          93,
          94,
          95,
          96,
          97,
          98,
          99,
          100
         ],
         "xaxis": "x",
         "y": [
          0.6627906976744186,
          0.7547857793983591,
          0.7529469548133595,
          0.7443783068783069,
          0.7542983915696062,
          0.7115600448933782,
          0.7520458265139116,
          0.7017035157665821,
          0.7390578015369195,
          0.7095873409866584,
          0.7461888205402514,
          0.7456246228123115,
          0.748253432907733,
          0.7590679270169268,
          0.7552836484983315,
          0.7212176699473564,
          0.7387409200968523,
          0.7267836257309942,
          0.7519899455383326,
          0.7506156256995746,
          0.7457865168539326,
          0.7535460992907801,
          0.7425365233961465,
          0.7150300601202405,
          0.7062625362157343,
          0.7014039944631204,
          0.7289591876586604,
          0.737856084307591,
          0.725076103500761,
          0.6811908823073345,
          0.7207972553504329,
          0.7125894599869876,
          0.7223695844385499,
          0.7250130366765166,
          0.7212,
          0.73191242569233,
          0.7403973509933774,
          0.7131725962952072,
          0.7341716625237608,
          0.7181078471934905,
          0.7356902356902357,
          0.7456627735570927,
          0.7424374319912949,
          0.7236856487047765,
          0.7257156838757034,
          0.7307737883635502,
          0.7463279764990496,
          0.7180503731343284,
          0.7226977415695576,
          0.732667391949362,
          0.7430870248774624,
          0.7208094362082026,
          0.7288328588857259,
          0.7238736212376146,
          0.7393950083781639,
          0.721958174904943,
          0.7203517049110015,
          0.721978021978022,
          0.739346761897119,
          0.7335860761674996,
          0.7346248202351747,
          0.7296174485026831,
          0.7047925134700822,
          0.7337130884567538,
          0.7338756536897153,
          0.756248788994381,
          0.7491659554659011,
          0.7217261904761905,
          0.7340076735263341,
          0.7327592718483269,
          0.7455429497568882,
          0.7267220735314833,
          0.7356540857456944,
          0.7479306267244777,
          0.7460756634669679,
          0.7351819970486965,
          0.752093476144109,
          0.750322182999944,
          0.7586577969086284,
          0.7501734505087881,
          0.7712988409606882,
          0.7616033755274262,
          0.7436055787144255,
          0.761692880794702,
          0.7581458192589513,
          0.7625180969497279,
          0.7461831009204652,
          0.7418106015485408,
          0.7391217063989962,
          0.7551486108734098,
          0.7573676680972818,
          0.773792443806791,
          0.7601271571298819,
          0.7614294580057923,
          0.7637294231567299,
          0.7699483605525002,
          0.7796352583586627,
          0.805921052631579,
          0.8286731062531775,
          0.8363443145589798,
          0.8634737131846958
         ],
         "yaxis": "y"
        },
        {
         "hovertemplate": "<b>OLS trendline</b><br>y = 0.0004808 * x + 0.716967<br>R<sup>2</sup>=0.269484<br><br>x=%{x}<br>y=%{y} <b>(trend)</b><extra></extra>",
         "legendgroup": "",
         "marker": {
          "color": "#636efa",
          "symbol": "circle"
         },
         "mode": "lines",
         "name": "",
         "showlegend": false,
         "type": "scatter",
         "x": [
          0,
          1,
          2,
          3,
          4,
          5,
          6,
          7,
          8,
          9,
          10,
          11,
          12,
          13,
          14,
          15,
          16,
          17,
          18,
          19,
          20,
          21,
          22,
          23,
          24,
          25,
          26,
          27,
          28,
          29,
          30,
          31,
          32,
          33,
          34,
          35,
          36,
          37,
          38,
          39,
          40,
          41,
          42,
          43,
          44,
          45,
          46,
          47,
          48,
          49,
          50,
          51,
          52,
          53,
          54,
          55,
          56,
          57,
          58,
          59,
          60,
          61,
          62,
          63,
          64,
          65,
          66,
          67,
          68,
          69,
          70,
          71,
          72,
          73,
          74,
          75,
          76,
          77,
          78,
          79,
          80,
          81,
          82,
          83,
          84,
          85,
          86,
          87,
          88,
          89,
          90,
          91,
          92,
          93,
          94,
          95,
          96,
          97,
          98,
          99,
          100
         ],
         "xaxis": "x",
         "y": [
          0.7169667649832393,
          0.7174475651520994,
          0.7179283653209594,
          0.7184091654898195,
          0.7188899656586796,
          0.7193707658275396,
          0.7198515659963997,
          0.7203323661652596,
          0.7208131663341197,
          0.7212939665029798,
          0.7217747666718398,
          0.7222555668406999,
          0.72273636700956,
          0.72321716717842,
          0.7236979673472801,
          0.7241787675161402,
          0.7246595676850002,
          0.7251403678538603,
          0.7256211680227204,
          0.7261019681915803,
          0.7265827683604404,
          0.7270635685293005,
          0.7275443686981605,
          0.7280251688670206,
          0.7285059690358806,
          0.7289867692047407,
          0.7294675693736008,
          0.7299483695424608,
          0.7304291697113209,
          0.730909969880181,
          0.731390770049041,
          0.7318715702179011,
          0.7323523703867612,
          0.7328331705556211,
          0.7333139707244812,
          0.7337947708933412,
          0.7342755710622013,
          0.7347563712310614,
          0.7352371713999214,
          0.7357179715687815,
          0.7361987717376416,
          0.7366795719065016,
          0.7371603720753617,
          0.7376411722442218,
          0.7381219724130818,
          0.7386027725819418,
          0.7390835727508019,
          0.7395643729196619,
          0.740045173088522,
          0.7405259732573821,
          0.7410067734262421,
          0.7414875735951022,
          0.7419683737639622,
          0.7424491739328223,
          0.7429299741016824,
          0.7434107742705424,
          0.7438915744394025,
          0.7443723746082626,
          0.7448531747771225,
          0.7453339749459826,
          0.7458147751148427,
          0.7462955752837027,
          0.7467763754525628,
          0.7472571756214228,
          0.7477379757902829,
          0.748218775959143,
          0.748699576128003,
          0.7491803762968631,
          0.7496611764657232,
          0.7501419766345832,
          0.7506227768034432,
          0.7511035769723033,
          0.7515843771411633,
          0.7520651773100234,
          0.7525459774788835,
          0.7530267776477435,
          0.7535075778166036,
          0.7539883779854637,
          0.7544691781543237,
          0.7549499783231838,
          0.7554307784920438,
          0.7559115786609039,
          0.756392378829764,
          0.7568731789986239,
          0.757353979167484,
          0.7578347793363441,
          0.7583155795052041,
          0.7587963796740642,
          0.7592771798429243,
          0.7597579800117843,
          0.7602387801806444,
          0.7607195803495044,
          0.7612003805183645,
          0.7616811806872246,
          0.7621619808560846,
          0.7626427810249446,
          0.7631235811938047,
          0.7636043813626647,
          0.7640851815315248,
          0.7645659817003849,
          0.7650467818692449
         ],
         "yaxis": "y"
        }
       ],
       "layout": {
        "legend": {
         "tracegroupgap": 0
        },
        "margin": {
         "t": 60
        },
        "template": {
         "data": {
          "bar": [
           {
            "error_x": {
             "color": "#2a3f5f"
            },
            "error_y": {
             "color": "#2a3f5f"
            },
            "marker": {
             "line": {
              "color": "#E5ECF6",
              "width": 0.5
             }
            },
            "type": "bar"
           }
          ],
          "barpolar": [
           {
            "marker": {
             "line": {
              "color": "#E5ECF6",
              "width": 0.5
             }
            },
            "type": "barpolar"
           }
          ],
          "carpet": [
           {
            "aaxis": {
             "endlinecolor": "#2a3f5f",
             "gridcolor": "white",
             "linecolor": "white",
             "minorgridcolor": "white",
             "startlinecolor": "#2a3f5f"
            },
            "baxis": {
             "endlinecolor": "#2a3f5f",
             "gridcolor": "white",
             "linecolor": "white",
             "minorgridcolor": "white",
             "startlinecolor": "#2a3f5f"
            },
            "type": "carpet"
           }
          ],
          "choropleth": [
           {
            "colorbar": {
             "outlinewidth": 0,
             "ticks": ""
            },
            "type": "choropleth"
           }
          ],
          "contour": [
           {
            "colorbar": {
             "outlinewidth": 0,
             "ticks": ""
            },
            "colorscale": [
             [
              0,
              "#0d0887"
             ],
             [
              0.1111111111111111,
              "#46039f"
             ],
             [
              0.2222222222222222,
              "#7201a8"
             ],
             [
              0.3333333333333333,
              "#9c179e"
             ],
             [
              0.4444444444444444,
              "#bd3786"
             ],
             [
              0.5555555555555556,
              "#d8576b"
             ],
             [
              0.6666666666666666,
              "#ed7953"
             ],
             [
              0.7777777777777778,
              "#fb9f3a"
             ],
             [
              0.8888888888888888,
              "#fdca26"
             ],
             [
              1,
              "#f0f921"
             ]
            ],
            "type": "contour"
           }
          ],
          "contourcarpet": [
           {
            "colorbar": {
             "outlinewidth": 0,
             "ticks": ""
            },
            "type": "contourcarpet"
           }
          ],
          "heatmap": [
           {
            "colorbar": {
             "outlinewidth": 0,
             "ticks": ""
            },
            "colorscale": [
             [
              0,
              "#0d0887"
             ],
             [
              0.1111111111111111,
              "#46039f"
             ],
             [
              0.2222222222222222,
              "#7201a8"
             ],
             [
              0.3333333333333333,
              "#9c179e"
             ],
             [
              0.4444444444444444,
              "#bd3786"
             ],
             [
              0.5555555555555556,
              "#d8576b"
             ],
             [
              0.6666666666666666,
              "#ed7953"
             ],
             [
              0.7777777777777778,
              "#fb9f3a"
             ],
             [
              0.8888888888888888,
              "#fdca26"
             ],
             [
              1,
              "#f0f921"
             ]
            ],
            "type": "heatmap"
           }
          ],
          "heatmapgl": [
           {
            "colorbar": {
             "outlinewidth": 0,
             "ticks": ""
            },
            "colorscale": [
             [
              0,
              "#0d0887"
             ],
             [
              0.1111111111111111,
              "#46039f"
             ],
             [
              0.2222222222222222,
              "#7201a8"
             ],
             [
              0.3333333333333333,
              "#9c179e"
             ],
             [
              0.4444444444444444,
              "#bd3786"
             ],
             [
              0.5555555555555556,
              "#d8576b"
             ],
             [
              0.6666666666666666,
              "#ed7953"
             ],
             [
              0.7777777777777778,
              "#fb9f3a"
             ],
             [
              0.8888888888888888,
              "#fdca26"
             ],
             [
              1,
              "#f0f921"
             ]
            ],
            "type": "heatmapgl"
           }
          ],
          "histogram": [
           {
            "marker": {
             "colorbar": {
              "outlinewidth": 0,
              "ticks": ""
             }
            },
            "type": "histogram"
           }
          ],
          "histogram2d": [
           {
            "colorbar": {
             "outlinewidth": 0,
             "ticks": ""
            },
            "colorscale": [
             [
              0,
              "#0d0887"
             ],
             [
              0.1111111111111111,
              "#46039f"
             ],
             [
              0.2222222222222222,
              "#7201a8"
             ],
             [
              0.3333333333333333,
              "#9c179e"
             ],
             [
              0.4444444444444444,
              "#bd3786"
             ],
             [
              0.5555555555555556,
              "#d8576b"
             ],
             [
              0.6666666666666666,
              "#ed7953"
             ],
             [
              0.7777777777777778,
              "#fb9f3a"
             ],
             [
              0.8888888888888888,
              "#fdca26"
             ],
             [
              1,
              "#f0f921"
             ]
            ],
            "type": "histogram2d"
           }
          ],
          "histogram2dcontour": [
           {
            "colorbar": {
             "outlinewidth": 0,
             "ticks": ""
            },
            "colorscale": [
             [
              0,
              "#0d0887"
             ],
             [
              0.1111111111111111,
              "#46039f"
             ],
             [
              0.2222222222222222,
              "#7201a8"
             ],
             [
              0.3333333333333333,
              "#9c179e"
             ],
             [
              0.4444444444444444,
              "#bd3786"
             ],
             [
              0.5555555555555556,
              "#d8576b"
             ],
             [
              0.6666666666666666,
              "#ed7953"
             ],
             [
              0.7777777777777778,
              "#fb9f3a"
             ],
             [
              0.8888888888888888,
              "#fdca26"
             ],
             [
              1,
              "#f0f921"
             ]
            ],
            "type": "histogram2dcontour"
           }
          ],
          "mesh3d": [
           {
            "colorbar": {
             "outlinewidth": 0,
             "ticks": ""
            },
            "type": "mesh3d"
           }
          ],
          "parcoords": [
           {
            "line": {
             "colorbar": {
              "outlinewidth": 0,
              "ticks": ""
             }
            },
            "type": "parcoords"
           }
          ],
          "pie": [
           {
            "automargin": true,
            "type": "pie"
           }
          ],
          "scatter": [
           {
            "marker": {
             "colorbar": {
              "outlinewidth": 0,
              "ticks": ""
             }
            },
            "type": "scatter"
           }
          ],
          "scatter3d": [
           {
            "line": {
             "colorbar": {
              "outlinewidth": 0,
              "ticks": ""
             }
            },
            "marker": {
             "colorbar": {
              "outlinewidth": 0,
              "ticks": ""
             }
            },
            "type": "scatter3d"
           }
          ],
          "scattercarpet": [
           {
            "marker": {
             "colorbar": {
              "outlinewidth": 0,
              "ticks": ""
             }
            },
            "type": "scattercarpet"
           }
          ],
          "scattergeo": [
           {
            "marker": {
             "colorbar": {
              "outlinewidth": 0,
              "ticks": ""
             }
            },
            "type": "scattergeo"
           }
          ],
          "scattergl": [
           {
            "marker": {
             "colorbar": {
              "outlinewidth": 0,
              "ticks": ""
             }
            },
            "type": "scattergl"
           }
          ],
          "scattermapbox": [
           {
            "marker": {
             "colorbar": {
              "outlinewidth": 0,
              "ticks": ""
             }
            },
            "type": "scattermapbox"
           }
          ],
          "scatterpolar": [
           {
            "marker": {
             "colorbar": {
              "outlinewidth": 0,
              "ticks": ""
             }
            },
            "type": "scatterpolar"
           }
          ],
          "scatterpolargl": [
           {
            "marker": {
             "colorbar": {
              "outlinewidth": 0,
              "ticks": ""
             }
            },
            "type": "scatterpolargl"
           }
          ],
          "scatterternary": [
           {
            "marker": {
             "colorbar": {
              "outlinewidth": 0,
              "ticks": ""
             }
            },
            "type": "scatterternary"
           }
          ],
          "surface": [
           {
            "colorbar": {
             "outlinewidth": 0,
             "ticks": ""
            },
            "colorscale": [
             [
              0,
              "#0d0887"
             ],
             [
              0.1111111111111111,
              "#46039f"
             ],
             [
              0.2222222222222222,
              "#7201a8"
             ],
             [
              0.3333333333333333,
              "#9c179e"
             ],
             [
              0.4444444444444444,
              "#bd3786"
             ],
             [
              0.5555555555555556,
              "#d8576b"
             ],
             [
              0.6666666666666666,
              "#ed7953"
             ],
             [
              0.7777777777777778,
              "#fb9f3a"
             ],
             [
              0.8888888888888888,
              "#fdca26"
             ],
             [
              1,
              "#f0f921"
             ]
            ],
            "type": "surface"
           }
          ],
          "table": [
           {
            "cells": {
             "fill": {
              "color": "#EBF0F8"
             },
             "line": {
              "color": "white"
             }
            },
            "header": {
             "fill": {
              "color": "#C8D4E3"
             },
             "line": {
              "color": "white"
             }
            },
            "type": "table"
           }
          ]
         },
         "layout": {
          "annotationdefaults": {
           "arrowcolor": "#2a3f5f",
           "arrowhead": 0,
           "arrowwidth": 1
          },
          "coloraxis": {
           "colorbar": {
            "outlinewidth": 0,
            "ticks": ""
           }
          },
          "colorscale": {
           "diverging": [
            [
             0,
             "#8e0152"
            ],
            [
             0.1,
             "#c51b7d"
            ],
            [
             0.2,
             "#de77ae"
            ],
            [
             0.3,
             "#f1b6da"
            ],
            [
             0.4,
             "#fde0ef"
            ],
            [
             0.5,
             "#f7f7f7"
            ],
            [
             0.6,
             "#e6f5d0"
            ],
            [
             0.7,
             "#b8e186"
            ],
            [
             0.8,
             "#7fbc41"
            ],
            [
             0.9,
             "#4d9221"
            ],
            [
             1,
             "#276419"
            ]
           ],
           "sequential": [
            [
             0,
             "#0d0887"
            ],
            [
             0.1111111111111111,
             "#46039f"
            ],
            [
             0.2222222222222222,
             "#7201a8"
            ],
            [
             0.3333333333333333,
             "#9c179e"
            ],
            [
             0.4444444444444444,
             "#bd3786"
            ],
            [
             0.5555555555555556,
             "#d8576b"
            ],
            [
             0.6666666666666666,
             "#ed7953"
            ],
            [
             0.7777777777777778,
             "#fb9f3a"
            ],
            [
             0.8888888888888888,
             "#fdca26"
            ],
            [
             1,
             "#f0f921"
            ]
           ],
           "sequentialminus": [
            [
             0,
             "#0d0887"
            ],
            [
             0.1111111111111111,
             "#46039f"
            ],
            [
             0.2222222222222222,
             "#7201a8"
            ],
            [
             0.3333333333333333,
             "#9c179e"
            ],
            [
             0.4444444444444444,
             "#bd3786"
            ],
            [
             0.5555555555555556,
             "#d8576b"
            ],
            [
             0.6666666666666666,
             "#ed7953"
            ],
            [
             0.7777777777777778,
             "#fb9f3a"
            ],
            [
             0.8888888888888888,
             "#fdca26"
            ],
            [
             1,
             "#f0f921"
            ]
           ]
          },
          "colorway": [
           "#636efa",
           "#EF553B",
           "#00cc96",
           "#ab63fa",
           "#FFA15A",
           "#19d3f3",
           "#FF6692",
           "#B6E880",
           "#FF97FF",
           "#FECB52"
          ],
          "font": {
           "color": "#2a3f5f"
          },
          "geo": {
           "bgcolor": "white",
           "lakecolor": "white",
           "landcolor": "#E5ECF6",
           "showlakes": true,
           "showland": true,
           "subunitcolor": "white"
          },
          "hoverlabel": {
           "align": "left"
          },
          "hovermode": "closest",
          "mapbox": {
           "style": "light"
          },
          "paper_bgcolor": "white",
          "plot_bgcolor": "#E5ECF6",
          "polar": {
           "angularaxis": {
            "gridcolor": "white",
            "linecolor": "white",
            "ticks": ""
           },
           "bgcolor": "#E5ECF6",
           "radialaxis": {
            "gridcolor": "white",
            "linecolor": "white",
            "ticks": ""
           }
          },
          "scene": {
           "xaxis": {
            "backgroundcolor": "#E5ECF6",
            "gridcolor": "white",
            "gridwidth": 2,
            "linecolor": "white",
            "showbackground": true,
            "ticks": "",
            "zerolinecolor": "white"
           },
           "yaxis": {
            "backgroundcolor": "#E5ECF6",
            "gridcolor": "white",
            "gridwidth": 2,
            "linecolor": "white",
            "showbackground": true,
            "ticks": "",
            "zerolinecolor": "white"
           },
           "zaxis": {
            "backgroundcolor": "#E5ECF6",
            "gridcolor": "white",
            "gridwidth": 2,
            "linecolor": "white",
            "showbackground": true,
            "ticks": "",
            "zerolinecolor": "white"
           }
          },
          "shapedefaults": {
           "line": {
            "color": "#2a3f5f"
           }
          },
          "ternary": {
           "aaxis": {
            "gridcolor": "white",
            "linecolor": "white",
            "ticks": ""
           },
           "baxis": {
            "gridcolor": "white",
            "linecolor": "white",
            "ticks": ""
           },
           "bgcolor": "#E5ECF6",
           "caxis": {
            "gridcolor": "white",
            "linecolor": "white",
            "ticks": ""
           }
          },
          "title": {
           "x": 0.05
          },
          "xaxis": {
           "automargin": true,
           "gridcolor": "white",
           "linecolor": "white",
           "ticks": "",
           "title": {
            "standoff": 15
           },
           "zerolinecolor": "white",
           "zerolinewidth": 2
          },
          "yaxis": {
           "automargin": true,
           "gridcolor": "white",
           "linecolor": "white",
           "ticks": "",
           "title": {
            "standoff": 15
           },
           "zerolinecolor": "white",
           "zerolinewidth": 2
          }
         }
        },
        "title": {
         "text": "Percentage of Fully Funded Projects"
        },
        "xaxis": {
         "anchor": "y",
         "domain": [
          0,
          1
         ],
         "title": {
          "text": "School Percentage Free Lunch"
         }
        },
        "yaxis": {
         "anchor": "x",
         "domain": [
          0,
          1
         ],
         "title": {
          "text": "% of Total"
         }
        }
       }
      },
      "text/html": [
       "<div>                            <div id=\"09db83ff-eb9c-4013-95bc-b57064309198\" class=\"plotly-graph-div\" style=\"height:525px; width:100%;\"></div>            <script type=\"text/javascript\">                require([\"plotly\"], function(Plotly) {                    window.PLOTLYENV=window.PLOTLYENV || {};                                    if (document.getElementById(\"09db83ff-eb9c-4013-95bc-b57064309198\")) {                    Plotly.newPlot(                        \"09db83ff-eb9c-4013-95bc-b57064309198\",                        [{\"hovertemplate\": \"x=%{x}<br>y=%{y}<extra></extra>\", \"legendgroup\": \"\", \"marker\": {\"color\": \"#636efa\", \"symbol\": \"circle\"}, \"mode\": \"markers\", \"name\": \"\", \"orientation\": \"v\", \"showlegend\": false, \"type\": \"scatter\", \"x\": [0.0, 1.0, 2.0, 3.0, 4.0, 5.0, 6.0, 7.0, 8.0, 9.0, 10.0, 11.0, 12.0, 13.0, 14.0, 15.0, 16.0, 17.0, 18.0, 19.0, 20.0, 21.0, 22.0, 23.0, 24.0, 25.0, 26.0, 27.0, 28.0, 29.0, 30.0, 31.0, 32.0, 33.0, 34.0, 35.0, 36.0, 37.0, 38.0, 39.0, 40.0, 41.0, 42.0, 43.0, 44.0, 45.0, 46.0, 47.0, 48.0, 49.0, 50.0, 51.0, 52.0, 53.0, 54.0, 55.0, 56.0, 57.0, 58.0, 59.0, 60.0, 61.0, 62.0, 63.0, 64.0, 65.0, 66.0, 67.0, 68.0, 69.0, 70.0, 71.0, 72.0, 73.0, 74.0, 75.0, 76.0, 77.0, 78.0, 79.0, 80.0, 81.0, 82.0, 83.0, 84.0, 85.0, 86.0, 87.0, 88.0, 89.0, 90.0, 91.0, 92.0, 93.0, 94.0, 95.0, 96.0, 97.0, 98.0, 99.0, 100.0], \"xaxis\": \"x\", \"y\": [0.6627906976744186, 0.7547857793983591, 0.7529469548133595, 0.7443783068783069, 0.7542983915696062, 0.7115600448933782, 0.7520458265139116, 0.7017035157665821, 0.7390578015369195, 0.7095873409866584, 0.7461888205402514, 0.7456246228123115, 0.748253432907733, 0.7590679270169268, 0.7552836484983315, 0.7212176699473564, 0.7387409200968523, 0.7267836257309942, 0.7519899455383326, 0.7506156256995746, 0.7457865168539326, 0.7535460992907801, 0.7425365233961465, 0.7150300601202405, 0.7062625362157343, 0.7014039944631204, 0.7289591876586604, 0.737856084307591, 0.725076103500761, 0.6811908823073345, 0.7207972553504329, 0.7125894599869876, 0.7223695844385499, 0.7250130366765166, 0.7212, 0.73191242569233, 0.7403973509933774, 0.7131725962952072, 0.7341716625237608, 0.7181078471934905, 0.7356902356902357, 0.7456627735570927, 0.7424374319912949, 0.7236856487047765, 0.7257156838757034, 0.7307737883635502, 0.7463279764990496, 0.7180503731343284, 0.7226977415695576, 0.732667391949362, 0.7430870248774624, 0.7208094362082026, 0.7288328588857259, 0.7238736212376146, 0.7393950083781639, 0.721958174904943, 0.7203517049110015, 0.721978021978022, 0.739346761897119, 0.7335860761674996, 0.7346248202351747, 0.7296174485026831, 0.7047925134700822, 0.7337130884567538, 0.7338756536897153, 0.756248788994381, 0.7491659554659011, 0.7217261904761905, 0.7340076735263341, 0.7327592718483269, 0.7455429497568882, 0.7267220735314833, 0.7356540857456944, 0.7479306267244777, 0.7460756634669679, 0.7351819970486965, 0.752093476144109, 0.750322182999944, 0.7586577969086284, 0.7501734505087881, 0.7712988409606882, 0.7616033755274262, 0.7436055787144255, 0.761692880794702, 0.7581458192589513, 0.7625180969497279, 0.7461831009204652, 0.7418106015485408, 0.7391217063989962, 0.7551486108734098, 0.7573676680972818, 0.773792443806791, 0.7601271571298819, 0.7614294580057923, 0.7637294231567299, 0.7699483605525002, 0.7796352583586627, 0.805921052631579, 0.8286731062531775, 0.8363443145589798, 0.8634737131846958], \"yaxis\": \"y\"}, {\"hovertemplate\": \"<b>OLS trendline</b><br>y = 0.0004808 * x + 0.716967<br>R<sup>2</sup>=0.269484<br><br>x=%{x}<br>y=%{y} <b>(trend)</b><extra></extra>\", \"legendgroup\": \"\", \"marker\": {\"color\": \"#636efa\", \"symbol\": \"circle\"}, \"mode\": \"lines\", \"name\": \"\", \"showlegend\": false, \"type\": \"scatter\", \"x\": [0.0, 1.0, 2.0, 3.0, 4.0, 5.0, 6.0, 7.0, 8.0, 9.0, 10.0, 11.0, 12.0, 13.0, 14.0, 15.0, 16.0, 17.0, 18.0, 19.0, 20.0, 21.0, 22.0, 23.0, 24.0, 25.0, 26.0, 27.0, 28.0, 29.0, 30.0, 31.0, 32.0, 33.0, 34.0, 35.0, 36.0, 37.0, 38.0, 39.0, 40.0, 41.0, 42.0, 43.0, 44.0, 45.0, 46.0, 47.0, 48.0, 49.0, 50.0, 51.0, 52.0, 53.0, 54.0, 55.0, 56.0, 57.0, 58.0, 59.0, 60.0, 61.0, 62.0, 63.0, 64.0, 65.0, 66.0, 67.0, 68.0, 69.0, 70.0, 71.0, 72.0, 73.0, 74.0, 75.0, 76.0, 77.0, 78.0, 79.0, 80.0, 81.0, 82.0, 83.0, 84.0, 85.0, 86.0, 87.0, 88.0, 89.0, 90.0, 91.0, 92.0, 93.0, 94.0, 95.0, 96.0, 97.0, 98.0, 99.0, 100.0], \"xaxis\": \"x\", \"y\": [0.7169667649832393, 0.7174475651520994, 0.7179283653209594, 0.7184091654898195, 0.7188899656586796, 0.7193707658275396, 0.7198515659963997, 0.7203323661652596, 0.7208131663341197, 0.7212939665029798, 0.7217747666718398, 0.7222555668406999, 0.72273636700956, 0.72321716717842, 0.7236979673472801, 0.7241787675161402, 0.7246595676850002, 0.7251403678538603, 0.7256211680227204, 0.7261019681915803, 0.7265827683604404, 0.7270635685293005, 0.7275443686981605, 0.7280251688670206, 0.7285059690358806, 0.7289867692047407, 0.7294675693736008, 0.7299483695424608, 0.7304291697113209, 0.730909969880181, 0.731390770049041, 0.7318715702179011, 0.7323523703867612, 0.7328331705556211, 0.7333139707244812, 0.7337947708933412, 0.7342755710622013, 0.7347563712310614, 0.7352371713999214, 0.7357179715687815, 0.7361987717376416, 0.7366795719065016, 0.7371603720753617, 0.7376411722442218, 0.7381219724130818, 0.7386027725819418, 0.7390835727508019, 0.7395643729196619, 0.740045173088522, 0.7405259732573821, 0.7410067734262421, 0.7414875735951022, 0.7419683737639622, 0.7424491739328223, 0.7429299741016824, 0.7434107742705424, 0.7438915744394025, 0.7443723746082626, 0.7448531747771225, 0.7453339749459826, 0.7458147751148427, 0.7462955752837027, 0.7467763754525628, 0.7472571756214228, 0.7477379757902829, 0.748218775959143, 0.748699576128003, 0.7491803762968631, 0.7496611764657232, 0.7501419766345832, 0.7506227768034432, 0.7511035769723033, 0.7515843771411633, 0.7520651773100234, 0.7525459774788835, 0.7530267776477435, 0.7535075778166036, 0.7539883779854637, 0.7544691781543237, 0.7549499783231838, 0.7554307784920438, 0.7559115786609039, 0.756392378829764, 0.7568731789986239, 0.757353979167484, 0.7578347793363441, 0.7583155795052041, 0.7587963796740642, 0.7592771798429243, 0.7597579800117843, 0.7602387801806444, 0.7607195803495044, 0.7612003805183645, 0.7616811806872246, 0.7621619808560846, 0.7626427810249446, 0.7631235811938047, 0.7636043813626647, 0.7640851815315248, 0.7645659817003849, 0.7650467818692449], \"yaxis\": \"y\"}],                        {\"legend\": {\"tracegroupgap\": 0}, \"margin\": {\"t\": 60}, \"template\": {\"data\": {\"bar\": [{\"error_x\": {\"color\": \"#2a3f5f\"}, \"error_y\": {\"color\": \"#2a3f5f\"}, \"marker\": {\"line\": {\"color\": \"#E5ECF6\", \"width\": 0.5}}, \"type\": \"bar\"}], \"barpolar\": [{\"marker\": {\"line\": {\"color\": \"#E5ECF6\", \"width\": 0.5}}, \"type\": \"barpolar\"}], \"carpet\": [{\"aaxis\": {\"endlinecolor\": \"#2a3f5f\", \"gridcolor\": \"white\", \"linecolor\": \"white\", \"minorgridcolor\": \"white\", \"startlinecolor\": \"#2a3f5f\"}, \"baxis\": {\"endlinecolor\": \"#2a3f5f\", \"gridcolor\": \"white\", \"linecolor\": \"white\", \"minorgridcolor\": \"white\", \"startlinecolor\": \"#2a3f5f\"}, \"type\": \"carpet\"}], \"choropleth\": [{\"colorbar\": {\"outlinewidth\": 0, \"ticks\": \"\"}, \"type\": \"choropleth\"}], \"contour\": [{\"colorbar\": {\"outlinewidth\": 0, \"ticks\": \"\"}, \"colorscale\": [[0.0, \"#0d0887\"], [0.1111111111111111, \"#46039f\"], [0.2222222222222222, \"#7201a8\"], [0.3333333333333333, \"#9c179e\"], [0.4444444444444444, \"#bd3786\"], [0.5555555555555556, \"#d8576b\"], [0.6666666666666666, \"#ed7953\"], [0.7777777777777778, \"#fb9f3a\"], [0.8888888888888888, \"#fdca26\"], [1.0, \"#f0f921\"]], \"type\": \"contour\"}], \"contourcarpet\": [{\"colorbar\": {\"outlinewidth\": 0, \"ticks\": \"\"}, \"type\": \"contourcarpet\"}], \"heatmap\": [{\"colorbar\": {\"outlinewidth\": 0, \"ticks\": \"\"}, \"colorscale\": [[0.0, \"#0d0887\"], [0.1111111111111111, \"#46039f\"], [0.2222222222222222, \"#7201a8\"], [0.3333333333333333, \"#9c179e\"], [0.4444444444444444, \"#bd3786\"], [0.5555555555555556, \"#d8576b\"], [0.6666666666666666, \"#ed7953\"], [0.7777777777777778, \"#fb9f3a\"], [0.8888888888888888, \"#fdca26\"], [1.0, \"#f0f921\"]], \"type\": \"heatmap\"}], \"heatmapgl\": [{\"colorbar\": {\"outlinewidth\": 0, \"ticks\": \"\"}, \"colorscale\": [[0.0, \"#0d0887\"], [0.1111111111111111, \"#46039f\"], [0.2222222222222222, \"#7201a8\"], [0.3333333333333333, \"#9c179e\"], [0.4444444444444444, \"#bd3786\"], [0.5555555555555556, \"#d8576b\"], [0.6666666666666666, \"#ed7953\"], [0.7777777777777778, \"#fb9f3a\"], [0.8888888888888888, \"#fdca26\"], [1.0, \"#f0f921\"]], \"type\": \"heatmapgl\"}], \"histogram\": [{\"marker\": {\"colorbar\": {\"outlinewidth\": 0, \"ticks\": \"\"}}, \"type\": \"histogram\"}], \"histogram2d\": [{\"colorbar\": {\"outlinewidth\": 0, \"ticks\": \"\"}, \"colorscale\": [[0.0, \"#0d0887\"], [0.1111111111111111, \"#46039f\"], [0.2222222222222222, \"#7201a8\"], [0.3333333333333333, \"#9c179e\"], [0.4444444444444444, \"#bd3786\"], [0.5555555555555556, \"#d8576b\"], [0.6666666666666666, \"#ed7953\"], [0.7777777777777778, \"#fb9f3a\"], [0.8888888888888888, \"#fdca26\"], [1.0, \"#f0f921\"]], \"type\": \"histogram2d\"}], \"histogram2dcontour\": [{\"colorbar\": {\"outlinewidth\": 0, \"ticks\": \"\"}, \"colorscale\": [[0.0, \"#0d0887\"], [0.1111111111111111, \"#46039f\"], [0.2222222222222222, \"#7201a8\"], [0.3333333333333333, \"#9c179e\"], [0.4444444444444444, \"#bd3786\"], [0.5555555555555556, \"#d8576b\"], [0.6666666666666666, \"#ed7953\"], [0.7777777777777778, \"#fb9f3a\"], [0.8888888888888888, \"#fdca26\"], [1.0, \"#f0f921\"]], \"type\": \"histogram2dcontour\"}], \"mesh3d\": [{\"colorbar\": {\"outlinewidth\": 0, \"ticks\": \"\"}, \"type\": \"mesh3d\"}], \"parcoords\": [{\"line\": {\"colorbar\": {\"outlinewidth\": 0, \"ticks\": \"\"}}, \"type\": \"parcoords\"}], \"pie\": [{\"automargin\": true, \"type\": \"pie\"}], \"scatter\": [{\"marker\": {\"colorbar\": {\"outlinewidth\": 0, \"ticks\": \"\"}}, \"type\": \"scatter\"}], \"scatter3d\": [{\"line\": {\"colorbar\": {\"outlinewidth\": 0, \"ticks\": \"\"}}, \"marker\": {\"colorbar\": {\"outlinewidth\": 0, \"ticks\": \"\"}}, \"type\": \"scatter3d\"}], \"scattercarpet\": [{\"marker\": {\"colorbar\": {\"outlinewidth\": 0, \"ticks\": \"\"}}, \"type\": \"scattercarpet\"}], \"scattergeo\": [{\"marker\": {\"colorbar\": {\"outlinewidth\": 0, \"ticks\": \"\"}}, \"type\": \"scattergeo\"}], \"scattergl\": [{\"marker\": {\"colorbar\": {\"outlinewidth\": 0, \"ticks\": \"\"}}, \"type\": \"scattergl\"}], \"scattermapbox\": [{\"marker\": {\"colorbar\": {\"outlinewidth\": 0, \"ticks\": \"\"}}, \"type\": \"scattermapbox\"}], \"scatterpolar\": [{\"marker\": {\"colorbar\": {\"outlinewidth\": 0, \"ticks\": \"\"}}, \"type\": \"scatterpolar\"}], \"scatterpolargl\": [{\"marker\": {\"colorbar\": {\"outlinewidth\": 0, \"ticks\": \"\"}}, \"type\": \"scatterpolargl\"}], \"scatterternary\": [{\"marker\": {\"colorbar\": {\"outlinewidth\": 0, \"ticks\": \"\"}}, \"type\": \"scatterternary\"}], \"surface\": [{\"colorbar\": {\"outlinewidth\": 0, \"ticks\": \"\"}, \"colorscale\": [[0.0, \"#0d0887\"], [0.1111111111111111, \"#46039f\"], [0.2222222222222222, \"#7201a8\"], [0.3333333333333333, \"#9c179e\"], [0.4444444444444444, \"#bd3786\"], [0.5555555555555556, \"#d8576b\"], [0.6666666666666666, \"#ed7953\"], [0.7777777777777778, \"#fb9f3a\"], [0.8888888888888888, \"#fdca26\"], [1.0, \"#f0f921\"]], \"type\": \"surface\"}], \"table\": [{\"cells\": {\"fill\": {\"color\": \"#EBF0F8\"}, \"line\": {\"color\": \"white\"}}, \"header\": {\"fill\": {\"color\": \"#C8D4E3\"}, \"line\": {\"color\": \"white\"}}, \"type\": \"table\"}]}, \"layout\": {\"annotationdefaults\": {\"arrowcolor\": \"#2a3f5f\", \"arrowhead\": 0, \"arrowwidth\": 1}, \"coloraxis\": {\"colorbar\": {\"outlinewidth\": 0, \"ticks\": \"\"}}, \"colorscale\": {\"diverging\": [[0, \"#8e0152\"], [0.1, \"#c51b7d\"], [0.2, \"#de77ae\"], [0.3, \"#f1b6da\"], [0.4, \"#fde0ef\"], [0.5, \"#f7f7f7\"], [0.6, \"#e6f5d0\"], [0.7, \"#b8e186\"], [0.8, \"#7fbc41\"], [0.9, \"#4d9221\"], [1, \"#276419\"]], \"sequential\": [[0.0, \"#0d0887\"], [0.1111111111111111, \"#46039f\"], [0.2222222222222222, \"#7201a8\"], [0.3333333333333333, \"#9c179e\"], [0.4444444444444444, \"#bd3786\"], [0.5555555555555556, \"#d8576b\"], [0.6666666666666666, \"#ed7953\"], [0.7777777777777778, \"#fb9f3a\"], [0.8888888888888888, \"#fdca26\"], [1.0, \"#f0f921\"]], \"sequentialminus\": [[0.0, \"#0d0887\"], [0.1111111111111111, \"#46039f\"], [0.2222222222222222, \"#7201a8\"], [0.3333333333333333, \"#9c179e\"], [0.4444444444444444, \"#bd3786\"], [0.5555555555555556, \"#d8576b\"], [0.6666666666666666, \"#ed7953\"], [0.7777777777777778, \"#fb9f3a\"], [0.8888888888888888, \"#fdca26\"], [1.0, \"#f0f921\"]]}, \"colorway\": [\"#636efa\", \"#EF553B\", \"#00cc96\", \"#ab63fa\", \"#FFA15A\", \"#19d3f3\", \"#FF6692\", \"#B6E880\", \"#FF97FF\", \"#FECB52\"], \"font\": {\"color\": \"#2a3f5f\"}, \"geo\": {\"bgcolor\": \"white\", \"lakecolor\": \"white\", \"landcolor\": \"#E5ECF6\", \"showlakes\": true, \"showland\": true, \"subunitcolor\": \"white\"}, \"hoverlabel\": {\"align\": \"left\"}, \"hovermode\": \"closest\", \"mapbox\": {\"style\": \"light\"}, \"paper_bgcolor\": \"white\", \"plot_bgcolor\": \"#E5ECF6\", \"polar\": {\"angularaxis\": {\"gridcolor\": \"white\", \"linecolor\": \"white\", \"ticks\": \"\"}, \"bgcolor\": \"#E5ECF6\", \"radialaxis\": {\"gridcolor\": \"white\", \"linecolor\": \"white\", \"ticks\": \"\"}}, \"scene\": {\"xaxis\": {\"backgroundcolor\": \"#E5ECF6\", \"gridcolor\": \"white\", \"gridwidth\": 2, \"linecolor\": \"white\", \"showbackground\": true, \"ticks\": \"\", \"zerolinecolor\": \"white\"}, \"yaxis\": {\"backgroundcolor\": \"#E5ECF6\", \"gridcolor\": \"white\", \"gridwidth\": 2, \"linecolor\": \"white\", \"showbackground\": true, \"ticks\": \"\", \"zerolinecolor\": \"white\"}, \"zaxis\": {\"backgroundcolor\": \"#E5ECF6\", \"gridcolor\": \"white\", \"gridwidth\": 2, \"linecolor\": \"white\", \"showbackground\": true, \"ticks\": \"\", \"zerolinecolor\": \"white\"}}, \"shapedefaults\": {\"line\": {\"color\": \"#2a3f5f\"}}, \"ternary\": {\"aaxis\": {\"gridcolor\": \"white\", \"linecolor\": \"white\", \"ticks\": \"\"}, \"baxis\": {\"gridcolor\": \"white\", \"linecolor\": \"white\", \"ticks\": \"\"}, \"bgcolor\": \"#E5ECF6\", \"caxis\": {\"gridcolor\": \"white\", \"linecolor\": \"white\", \"ticks\": \"\"}}, \"title\": {\"x\": 0.05}, \"xaxis\": {\"automargin\": true, \"gridcolor\": \"white\", \"linecolor\": \"white\", \"ticks\": \"\", \"title\": {\"standoff\": 15}, \"zerolinecolor\": \"white\", \"zerolinewidth\": 2}, \"yaxis\": {\"automargin\": true, \"gridcolor\": \"white\", \"linecolor\": \"white\", \"ticks\": \"\", \"title\": {\"standoff\": 15}, \"zerolinecolor\": \"white\", \"zerolinewidth\": 2}}}, \"title\": {\"text\": \"Percentage of Fully Funded Projects\"}, \"xaxis\": {\"anchor\": \"y\", \"domain\": [0.0, 1.0], \"title\": {\"text\": \"School Percentage Free Lunch\"}}, \"yaxis\": {\"anchor\": \"x\", \"domain\": [0.0, 1.0], \"title\": {\"text\": \"% of Total\"}}},                        {\"responsive\": true}                    ).then(function(){\n",
       "                            \n",
       "var gd = document.getElementById('09db83ff-eb9c-4013-95bc-b57064309198');\n",
       "var x = new MutationObserver(function (mutations, observer) {{\n",
       "        var display = window.getComputedStyle(gd).display;\n",
       "        if (!display || display === 'none') {{\n",
       "            console.log([gd, 'removed!']);\n",
       "            Plotly.purge(gd);\n",
       "            observer.disconnect();\n",
       "        }}\n",
       "}});\n",
       "\n",
       "// Listen for the removal of the full notebook cells\n",
       "var notebookContainer = gd.closest('#notebook-container');\n",
       "if (notebookContainer) {{\n",
       "    x.observe(notebookContainer, {childList: true});\n",
       "}}\n",
       "\n",
       "// Listen for the clearing of the current output cell\n",
       "var outputEl = gd.closest('.output');\n",
       "if (outputEl) {{\n",
       "    x.observe(outputEl, {childList: true});\n",
       "}}\n",
       "\n",
       "                        })                };                });            </script>        </div>"
      ]
     },
     "metadata": {},
     "output_type": "display_data"
    }
   ],
   "source": [
    "fig = px.scatter(x=free_lunch.reset_index()['School Percentage Free Lunch'],\n",
    "                 y=free_lunch.reset_index()['% Projects'], \n",
    "                 trendline='ols')\n",
    "\n",
    "fig.update_layout(title='Percentage of Fully Funded Projects',\n",
    "                  xaxis_title='School Percentage Free Lunch',\n",
    "                  yaxis_title='% of Total')\n",
    "#fig.update_traces(marker=dict(color='#7e57c2'), line=dict(color='#3801c0'))\n",
    "\n",
    "fig.show()"
   ]
  },
  {
   "cell_type": "code",
   "execution_count": null,
   "metadata": {},
   "outputs": [],
   "source": []
  },
  {
   "cell_type": "code",
   "execution_count": 121,
   "metadata": {},
   "outputs": [
    {
     "data": {
      "text/html": [
       "<div>\n",
       "<style scoped>\n",
       "    .dataframe tbody tr th:only-of-type {\n",
       "        vertical-align: middle;\n",
       "    }\n",
       "\n",
       "    .dataframe tbody tr th {\n",
       "        vertical-align: top;\n",
       "    }\n",
       "\n",
       "    .dataframe thead th {\n",
       "        text-align: right;\n",
       "    }\n",
       "</style>\n",
       "<table border=\"1\" class=\"dataframe\">\n",
       "  <thead>\n",
       "    <tr style=\"text-align: right;\">\n",
       "      <th></th>\n",
       "      <th>Project ID</th>\n",
       "      <th>School ID</th>\n",
       "      <th>Teacher ID</th>\n",
       "      <th>Teacher Project Posted Sequence</th>\n",
       "      <th>Project Type</th>\n",
       "      <th>Project Title</th>\n",
       "      <th>Project Essay</th>\n",
       "      <th>Project Short Description</th>\n",
       "      <th>Project Need Statement</th>\n",
       "      <th>Project Subject Category Tree</th>\n",
       "      <th>...</th>\n",
       "      <th>Year Posted</th>\n",
       "      <th>Month Posted</th>\n",
       "      <th>School Name</th>\n",
       "      <th>School Metro Type</th>\n",
       "      <th>School Percentage Free Lunch</th>\n",
       "      <th>School State</th>\n",
       "      <th>School Zip</th>\n",
       "      <th>School City</th>\n",
       "      <th>School County</th>\n",
       "      <th>School District</th>\n",
       "    </tr>\n",
       "  </thead>\n",
       "  <tbody>\n",
       "    <tr>\n",
       "      <th>0</th>\n",
       "      <td>7685f0265a19d7b52a470ee4bac883ba</td>\n",
       "      <td>e180c7424cb9c68cb49f141b092a988f</td>\n",
       "      <td>4ee5200e89d9e2998ec8baad8a3c5968</td>\n",
       "      <td>25</td>\n",
       "      <td>Teacher-Led</td>\n",
       "      <td>Stand Up to Bullying: Together We Can!</td>\n",
       "      <td>Did you know that 1-7 students in grades K-12 ...</td>\n",
       "      <td>Did you know that 1-7 students in grades K-12 ...</td>\n",
       "      <td>My students need 25 copies of \"Bullying in Sch...</td>\n",
       "      <td>Applied Learning</td>\n",
       "      <td>...</td>\n",
       "      <td>2013</td>\n",
       "      <td>1</td>\n",
       "      <td>Stanford Primary Center</td>\n",
       "      <td>suburban</td>\n",
       "      <td>95.0</td>\n",
       "      <td>California</td>\n",
       "      <td>90280</td>\n",
       "      <td>South Gate</td>\n",
       "      <td>Los Angeles</td>\n",
       "      <td>Los Angeles Unif Sch Dist</td>\n",
       "    </tr>\n",
       "    <tr>\n",
       "      <th>1</th>\n",
       "      <td>e11cc13f5f29c1a92c1a396a8c7471fb</td>\n",
       "      <td>e180c7424cb9c68cb49f141b092a988f</td>\n",
       "      <td>4ee5200e89d9e2998ec8baad8a3c5968</td>\n",
       "      <td>26</td>\n",
       "      <td>Teacher-Led</td>\n",
       "      <td>Recipe For Happiness: Children Need Support!</td>\n",
       "      <td>Did you know that bullying takes many forms? I...</td>\n",
       "      <td>Did you know that bullying takes many forms? I...</td>\n",
       "      <td>My students need the book, \"Bullying in School...</td>\n",
       "      <td>Applied Learning, Health &amp; Sports</td>\n",
       "      <td>...</td>\n",
       "      <td>2013</td>\n",
       "      <td>1</td>\n",
       "      <td>Stanford Primary Center</td>\n",
       "      <td>suburban</td>\n",
       "      <td>95.0</td>\n",
       "      <td>California</td>\n",
       "      <td>90280</td>\n",
       "      <td>South Gate</td>\n",
       "      <td>Los Angeles</td>\n",
       "      <td>Los Angeles Unif Sch Dist</td>\n",
       "    </tr>\n",
       "    <tr>\n",
       "      <th>2</th>\n",
       "      <td>9e367907db2c9b5c0b23fa6c1318eced</td>\n",
       "      <td>e180c7424cb9c68cb49f141b092a988f</td>\n",
       "      <td>4ee5200e89d9e2998ec8baad8a3c5968</td>\n",
       "      <td>27</td>\n",
       "      <td>Teacher-Led</td>\n",
       "      <td>Follow the Money!</td>\n",
       "      <td>What is the price kids pay when they do not un...</td>\n",
       "      <td>What is the price kids pay when they do not un...</td>\n",
       "      <td>My students need money books to discover and i...</td>\n",
       "      <td>Literacy &amp; Language, Math &amp; Science</td>\n",
       "      <td>...</td>\n",
       "      <td>2013</td>\n",
       "      <td>1</td>\n",
       "      <td>Stanford Primary Center</td>\n",
       "      <td>suburban</td>\n",
       "      <td>95.0</td>\n",
       "      <td>California</td>\n",
       "      <td>90280</td>\n",
       "      <td>South Gate</td>\n",
       "      <td>Los Angeles</td>\n",
       "      <td>Los Angeles Unif Sch Dist</td>\n",
       "    </tr>\n",
       "    <tr>\n",
       "      <th>3</th>\n",
       "      <td>9fa7373e77b89fbd71fd077400e7858d</td>\n",
       "      <td>e180c7424cb9c68cb49f141b092a988f</td>\n",
       "      <td>48471683229525ebf8549be1363065b4</td>\n",
       "      <td>6</td>\n",
       "      <td>Teacher-Led</td>\n",
       "      <td>Tiny Tablet Time</td>\n",
       "      <td>My classroom is filled with a variety of wonde...</td>\n",
       "      <td>My classroom is filled with a variety of wonde...</td>\n",
       "      <td>My students need an iPad Mini to help make int...</td>\n",
       "      <td>Literacy &amp; Language</td>\n",
       "      <td>...</td>\n",
       "      <td>2013</td>\n",
       "      <td>2</td>\n",
       "      <td>Stanford Primary Center</td>\n",
       "      <td>suburban</td>\n",
       "      <td>95.0</td>\n",
       "      <td>California</td>\n",
       "      <td>90280</td>\n",
       "      <td>South Gate</td>\n",
       "      <td>Los Angeles</td>\n",
       "      <td>Los Angeles Unif Sch Dist</td>\n",
       "    </tr>\n",
       "    <tr>\n",
       "      <th>4</th>\n",
       "      <td>30ee31b91a437f3c03ac6fb35699f182</td>\n",
       "      <td>e180c7424cb9c68cb49f141b092a988f</td>\n",
       "      <td>4ee5200e89d9e2998ec8baad8a3c5968</td>\n",
       "      <td>28</td>\n",
       "      <td>Teacher-Led</td>\n",
       "      <td>Hats Off 2 Math!</td>\n",
       "      <td>Do you remember when you wanted to figure out ...</td>\n",
       "      <td>Do you remember when you wanted to figure out ...</td>\n",
       "      <td>My students need money books like, \"Alexander,...</td>\n",
       "      <td>Literacy &amp; Language, Math &amp; Science</td>\n",
       "      <td>...</td>\n",
       "      <td>2013</td>\n",
       "      <td>2</td>\n",
       "      <td>Stanford Primary Center</td>\n",
       "      <td>suburban</td>\n",
       "      <td>95.0</td>\n",
       "      <td>California</td>\n",
       "      <td>90280</td>\n",
       "      <td>South Gate</td>\n",
       "      <td>Los Angeles</td>\n",
       "      <td>Los Angeles Unif Sch Dist</td>\n",
       "    </tr>\n",
       "    <tr>\n",
       "      <th>...</th>\n",
       "      <td>...</td>\n",
       "      <td>...</td>\n",
       "      <td>...</td>\n",
       "      <td>...</td>\n",
       "      <td>...</td>\n",
       "      <td>...</td>\n",
       "      <td>...</td>\n",
       "      <td>...</td>\n",
       "      <td>...</td>\n",
       "      <td>...</td>\n",
       "      <td>...</td>\n",
       "      <td>...</td>\n",
       "      <td>...</td>\n",
       "      <td>...</td>\n",
       "      <td>...</td>\n",
       "      <td>...</td>\n",
       "      <td>...</td>\n",
       "      <td>...</td>\n",
       "      <td>...</td>\n",
       "      <td>...</td>\n",
       "      <td>...</td>\n",
       "    </tr>\n",
       "    <tr>\n",
       "      <th>1109998</th>\n",
       "      <td>c6e06f0ad626ea3d8e461b0a3a902f01</td>\n",
       "      <td>1bf20b7dc5b9fc6e49e2eae141a41657</td>\n",
       "      <td>4a6dc244d00151d67d45b06f2059c343</td>\n",
       "      <td>1</td>\n",
       "      <td>Teacher-Led</td>\n",
       "      <td>Comfy Reading!</td>\n",
       "      <td>My fifth graders are smart, kind, hardworking ...</td>\n",
       "      <td>My fifth graders are smart, kind, hardworking ...</td>\n",
       "      <td>My students need a carpet to comfortably sit o...</td>\n",
       "      <td>Literacy &amp; Language, Math &amp; Science</td>\n",
       "      <td>...</td>\n",
       "      <td>2018</td>\n",
       "      <td>5</td>\n",
       "      <td>Clark Mills School</td>\n",
       "      <td>suburban</td>\n",
       "      <td>10.0</td>\n",
       "      <td>New Jersey</td>\n",
       "      <td>7726</td>\n",
       "      <td>Manalapan</td>\n",
       "      <td>Monmouth</td>\n",
       "      <td>Manalapan Englishtown Reg Sd</td>\n",
       "    </tr>\n",
       "    <tr>\n",
       "      <th>1109999</th>\n",
       "      <td>2a75814263efc2554f592cdbb51f9357</td>\n",
       "      <td>ef6932b1a02c99001f7705693208b71d</td>\n",
       "      <td>71e4f47621b84e5a894fa85c54587d98</td>\n",
       "      <td>1</td>\n",
       "      <td>Teacher-Led</td>\n",
       "      <td>The Great Book Adventure</td>\n",
       "      <td>What I love most about teaching middle school ...</td>\n",
       "      <td>What I love most about teaching middle school ...</td>\n",
       "      <td>My students need more books that they are inte...</td>\n",
       "      <td>Literacy &amp; Language</td>\n",
       "      <td>...</td>\n",
       "      <td>2018</td>\n",
       "      <td>5</td>\n",
       "      <td>Fox River Middle School</td>\n",
       "      <td>rural</td>\n",
       "      <td>19.0</td>\n",
       "      <td>Wisconsin</td>\n",
       "      <td>53185</td>\n",
       "      <td>Waterford</td>\n",
       "      <td>Racine</td>\n",
       "      <td>Waterford Graded Sd Joint 1</td>\n",
       "    </tr>\n",
       "    <tr>\n",
       "      <th>1110000</th>\n",
       "      <td>b11eb2b24dce23acdd4ffc62f38b708d</td>\n",
       "      <td>ed4cfac8292996806c7df6dc8b5ec976</td>\n",
       "      <td>da5e00db77706fb8ccdd4db554b35803</td>\n",
       "      <td>1</td>\n",
       "      <td>Teacher-Led</td>\n",
       "      <td>Books For All!</td>\n",
       "      <td>My third graders are readers!  From early stag...</td>\n",
       "      <td>My third graders are readers! From early stage...</td>\n",
       "      <td>My students need books of all kinds that are r...</td>\n",
       "      <td>Literacy &amp; Language</td>\n",
       "      <td>...</td>\n",
       "      <td>2018</td>\n",
       "      <td>5</td>\n",
       "      <td>O H Anderson Elementary School</td>\n",
       "      <td>suburban</td>\n",
       "      <td>10.0</td>\n",
       "      <td>Minnesota</td>\n",
       "      <td>55115</td>\n",
       "      <td>Mahtomedi</td>\n",
       "      <td>Washington</td>\n",
       "      <td>Mahtomedi Ind School Dist 832</td>\n",
       "    </tr>\n",
       "    <tr>\n",
       "      <th>1110001</th>\n",
       "      <td>481d685fcf50f58d4b3561ce2e177b06</td>\n",
       "      <td>66e7a79062668cf7dea4423c4cf33ede</td>\n",
       "      <td>d8335b3bc92b5112d6d9dd3ea5079897</td>\n",
       "      <td>2</td>\n",
       "      <td>Teacher-Led</td>\n",
       "      <td>Wobble and Work</td>\n",
       "      <td>Flexible seating will facilitate the learning ...</td>\n",
       "      <td>Flexible seating will facilitate the learning ...</td>\n",
       "      <td>My students need Wobble Chairs, Butterfly Stoo...</td>\n",
       "      <td>Special Needs</td>\n",
       "      <td>...</td>\n",
       "      <td>2018</td>\n",
       "      <td>5</td>\n",
       "      <td>Liberty Elementary School</td>\n",
       "      <td>urban</td>\n",
       "      <td>60.0</td>\n",
       "      <td>Oregon</td>\n",
       "      <td>97306</td>\n",
       "      <td>Salem</td>\n",
       "      <td>Marion</td>\n",
       "      <td>Salem-Keizer Sch Dist 24j</td>\n",
       "    </tr>\n",
       "    <tr>\n",
       "      <th>1110002</th>\n",
       "      <td>5c0c26e003ed9a498a127222f6219b40</td>\n",
       "      <td>3b84124937b7bca5660bc4b15e8c700d</td>\n",
       "      <td>39a586dab03aa934a539a43455149ae3</td>\n",
       "      <td>1</td>\n",
       "      <td>Teacher-Led</td>\n",
       "      <td>Readers Need Great Books in their Classroom Li...</td>\n",
       "      <td>Second graders are budding readers and writers...</td>\n",
       "      <td>Second graders are budding readers and writers...</td>\n",
       "      <td>My students need a high interest, engaging cla...</td>\n",
       "      <td>Literacy &amp; Language</td>\n",
       "      <td>...</td>\n",
       "      <td>2018</td>\n",
       "      <td>5</td>\n",
       "      <td>Windermere Elementary School</td>\n",
       "      <td>urban</td>\n",
       "      <td>5.0</td>\n",
       "      <td>Ohio</td>\n",
       "      <td>43220</td>\n",
       "      <td>Upper Arlngtn</td>\n",
       "      <td>Franklin</td>\n",
       "      <td>Upper Arlington City Sch Dist</td>\n",
       "    </tr>\n",
       "  </tbody>\n",
       "</table>\n",
       "<p>1110003 rows × 28 columns</p>\n",
       "</div>"
      ],
      "text/plain": [
       "                               Project ID                         School ID  \\\n",
       "0        7685f0265a19d7b52a470ee4bac883ba  e180c7424cb9c68cb49f141b092a988f   \n",
       "1        e11cc13f5f29c1a92c1a396a8c7471fb  e180c7424cb9c68cb49f141b092a988f   \n",
       "2        9e367907db2c9b5c0b23fa6c1318eced  e180c7424cb9c68cb49f141b092a988f   \n",
       "3        9fa7373e77b89fbd71fd077400e7858d  e180c7424cb9c68cb49f141b092a988f   \n",
       "4        30ee31b91a437f3c03ac6fb35699f182  e180c7424cb9c68cb49f141b092a988f   \n",
       "...                                   ...                               ...   \n",
       "1109998  c6e06f0ad626ea3d8e461b0a3a902f01  1bf20b7dc5b9fc6e49e2eae141a41657   \n",
       "1109999  2a75814263efc2554f592cdbb51f9357  ef6932b1a02c99001f7705693208b71d   \n",
       "1110000  b11eb2b24dce23acdd4ffc62f38b708d  ed4cfac8292996806c7df6dc8b5ec976   \n",
       "1110001  481d685fcf50f58d4b3561ce2e177b06  66e7a79062668cf7dea4423c4cf33ede   \n",
       "1110002  5c0c26e003ed9a498a127222f6219b40  3b84124937b7bca5660bc4b15e8c700d   \n",
       "\n",
       "                               Teacher ID  Teacher Project Posted Sequence  \\\n",
       "0        4ee5200e89d9e2998ec8baad8a3c5968                               25   \n",
       "1        4ee5200e89d9e2998ec8baad8a3c5968                               26   \n",
       "2        4ee5200e89d9e2998ec8baad8a3c5968                               27   \n",
       "3        48471683229525ebf8549be1363065b4                                6   \n",
       "4        4ee5200e89d9e2998ec8baad8a3c5968                               28   \n",
       "...                                   ...                              ...   \n",
       "1109998  4a6dc244d00151d67d45b06f2059c343                                1   \n",
       "1109999  71e4f47621b84e5a894fa85c54587d98                                1   \n",
       "1110000  da5e00db77706fb8ccdd4db554b35803                                1   \n",
       "1110001  d8335b3bc92b5112d6d9dd3ea5079897                                2   \n",
       "1110002  39a586dab03aa934a539a43455149ae3                                1   \n",
       "\n",
       "        Project Type                                      Project Title  \\\n",
       "0        Teacher-Led             Stand Up to Bullying: Together We Can!   \n",
       "1        Teacher-Led       Recipe For Happiness: Children Need Support!   \n",
       "2        Teacher-Led                                  Follow the Money!   \n",
       "3        Teacher-Led                                   Tiny Tablet Time   \n",
       "4        Teacher-Led                                   Hats Off 2 Math!   \n",
       "...              ...                                                ...   \n",
       "1109998  Teacher-Led                                     Comfy Reading!   \n",
       "1109999  Teacher-Led                          The Great Book Adventure    \n",
       "1110000  Teacher-Led                                     Books For All!   \n",
       "1110001  Teacher-Led                                    Wobble and Work   \n",
       "1110002  Teacher-Led  Readers Need Great Books in their Classroom Li...   \n",
       "\n",
       "                                             Project Essay  \\\n",
       "0        Did you know that 1-7 students in grades K-12 ...   \n",
       "1        Did you know that bullying takes many forms? I...   \n",
       "2        What is the price kids pay when they do not un...   \n",
       "3        My classroom is filled with a variety of wonde...   \n",
       "4        Do you remember when you wanted to figure out ...   \n",
       "...                                                    ...   \n",
       "1109998  My fifth graders are smart, kind, hardworking ...   \n",
       "1109999  What I love most about teaching middle school ...   \n",
       "1110000  My third graders are readers!  From early stag...   \n",
       "1110001  Flexible seating will facilitate the learning ...   \n",
       "1110002  Second graders are budding readers and writers...   \n",
       "\n",
       "                                 Project Short Description  \\\n",
       "0        Did you know that 1-7 students in grades K-12 ...   \n",
       "1        Did you know that bullying takes many forms? I...   \n",
       "2        What is the price kids pay when they do not un...   \n",
       "3        My classroom is filled with a variety of wonde...   \n",
       "4        Do you remember when you wanted to figure out ...   \n",
       "...                                                    ...   \n",
       "1109998  My fifth graders are smart, kind, hardworking ...   \n",
       "1109999  What I love most about teaching middle school ...   \n",
       "1110000  My third graders are readers! From early stage...   \n",
       "1110001  Flexible seating will facilitate the learning ...   \n",
       "1110002  Second graders are budding readers and writers...   \n",
       "\n",
       "                                    Project Need Statement  \\\n",
       "0        My students need 25 copies of \"Bullying in Sch...   \n",
       "1        My students need the book, \"Bullying in School...   \n",
       "2        My students need money books to discover and i...   \n",
       "3        My students need an iPad Mini to help make int...   \n",
       "4        My students need money books like, \"Alexander,...   \n",
       "...                                                    ...   \n",
       "1109998  My students need a carpet to comfortably sit o...   \n",
       "1109999  My students need more books that they are inte...   \n",
       "1110000  My students need books of all kinds that are r...   \n",
       "1110001  My students need Wobble Chairs, Butterfly Stoo...   \n",
       "1110002  My students need a high interest, engaging cla...   \n",
       "\n",
       "               Project Subject Category Tree  ... Year Posted Month Posted  \\\n",
       "0                           Applied Learning  ...        2013            1   \n",
       "1          Applied Learning, Health & Sports  ...        2013            1   \n",
       "2        Literacy & Language, Math & Science  ...        2013            1   \n",
       "3                        Literacy & Language  ...        2013            2   \n",
       "4        Literacy & Language, Math & Science  ...        2013            2   \n",
       "...                                      ...  ...         ...          ...   \n",
       "1109998  Literacy & Language, Math & Science  ...        2018            5   \n",
       "1109999                  Literacy & Language  ...        2018            5   \n",
       "1110000                  Literacy & Language  ...        2018            5   \n",
       "1110001                        Special Needs  ...        2018            5   \n",
       "1110002                  Literacy & Language  ...        2018            5   \n",
       "\n",
       "                            School Name  School Metro Type  \\\n",
       "0               Stanford Primary Center           suburban   \n",
       "1               Stanford Primary Center           suburban   \n",
       "2               Stanford Primary Center           suburban   \n",
       "3               Stanford Primary Center           suburban   \n",
       "4               Stanford Primary Center           suburban   \n",
       "...                                 ...                ...   \n",
       "1109998              Clark Mills School           suburban   \n",
       "1109999         Fox River Middle School              rural   \n",
       "1110000  O H Anderson Elementary School           suburban   \n",
       "1110001       Liberty Elementary School              urban   \n",
       "1110002    Windermere Elementary School              urban   \n",
       "\n",
       "        School Percentage Free Lunch School State School Zip    School City  \\\n",
       "0                               95.0   California      90280     South Gate   \n",
       "1                               95.0   California      90280     South Gate   \n",
       "2                               95.0   California      90280     South Gate   \n",
       "3                               95.0   California      90280     South Gate   \n",
       "4                               95.0   California      90280     South Gate   \n",
       "...                              ...          ...        ...            ...   \n",
       "1109998                         10.0   New Jersey       7726      Manalapan   \n",
       "1109999                         19.0    Wisconsin      53185      Waterford   \n",
       "1110000                         10.0    Minnesota      55115      Mahtomedi   \n",
       "1110001                         60.0       Oregon      97306          Salem   \n",
       "1110002                          5.0         Ohio      43220  Upper Arlngtn   \n",
       "\n",
       "         School County                School District  \n",
       "0          Los Angeles      Los Angeles Unif Sch Dist  \n",
       "1          Los Angeles      Los Angeles Unif Sch Dist  \n",
       "2          Los Angeles      Los Angeles Unif Sch Dist  \n",
       "3          Los Angeles      Los Angeles Unif Sch Dist  \n",
       "4          Los Angeles      Los Angeles Unif Sch Dist  \n",
       "...                ...                            ...  \n",
       "1109998       Monmouth   Manalapan Englishtown Reg Sd  \n",
       "1109999         Racine    Waterford Graded Sd Joint 1  \n",
       "1110000     Washington  Mahtomedi Ind School Dist 832  \n",
       "1110001         Marion      Salem-Keizer Sch Dist 24j  \n",
       "1110002       Franklin  Upper Arlington City Sch Dist  \n",
       "\n",
       "[1110003 rows x 28 columns]"
      ]
     },
     "execution_count": 121,
     "metadata": {},
     "output_type": "execute_result"
    }
   ],
   "source": [
    "merged"
   ]
  },
  {
   "cell_type": "code",
   "execution_count": 122,
   "metadata": {},
   "outputs": [
    {
     "data": {
      "text/plain": [
       "School Percentage Free Lunch  Project Current Status\n",
       "0.0                           Expired                   0.032517\n",
       "                              Fully Funded              0.072281\n",
       "                              Live                      0.004257\n",
       "1.0                           Expired                   0.020652\n",
       "                              Fully Funded              0.074999\n",
       "                                                          ...   \n",
       "99.0                          Fully Funded              0.213855\n",
       "                              Live                      0.007790\n",
       "100.0                         Expired                   0.033061\n",
       "                              Fully Funded              0.284143\n",
       "                              Live                      0.011866\n",
       "Name: School Percentage Free Lunch, Length: 303, dtype: float64"
      ]
     },
     "execution_count": 122,
     "metadata": {},
     "output_type": "execute_result"
    }
   ],
   "source": [
    "(merged.groupby(['School Percentage Free Lunch', 'Project Current Status'])['School Percentage Free Lunch'].count() / merged['School Percentage Free Lunch'].count())*100"
   ]
  },
  {
   "cell_type": "code",
   "execution_count": 132,
   "metadata": {},
   "outputs": [
    {
     "data": {
      "text/plain": [
       "<matplotlib.axes._subplots.AxesSubplot at 0x17563c670>"
      ]
     },
     "execution_count": 132,
     "metadata": {},
     "output_type": "execute_result"
    },
    {
     "data": {
      "image/png": "[encoded data removed]",
      "text/plain": [
       "<Figure size 432x288 with 1 Axes>"
      ]
     },
     "metadata": {
      "needs_background": "light"
     },
     "output_type": "display_data"
    }
   ],
   "source": [
    "merged[merged['Project Current Status'] == 'Fully Funded'].groupby('School Percentage Free Lunch')['Project Current Status'].count().plot()"
   ]
  },
  {
   "cell_type": "code",
   "execution_count": null,
   "metadata": {},
   "outputs": [],
   "source": []
  },
  {
   "cell_type": "code",
   "execution_count": 138,
   "metadata": {},
   "outputs": [
    {
     "data": {
      "text/plain": [
       "<matplotlib.axes._subplots.AxesSubplot at 0x17dd206a0>"
      ]
     },
     "execution_count": 138,
     "metadata": {},
     "output_type": "execute_result"
    },
    {
     "data": {
      "image/png": "[encoded data removed]",
      "text/plain": [
       "<Figure size 432x288 with 1 Axes>"
      ]
     },
     "metadata": {
      "needs_background": "light"
     },
     "output_type": "display_data"
    }
   ],
   "source": [
    "merged[merged['Project Current Status'] == 'Fully Funded'].groupby('School Metro Type')['Project ID'].count().sort_values().plot.bar()"
   ]
  },
  {
   "cell_type": "code",
   "execution_count": null,
   "metadata": {},
   "outputs": [],
   "source": []
  },
  {
   "cell_type": "code",
   "execution_count": 148,
   "metadata": {},
   "outputs": [],
   "source": [
    "projects = projects[projects['Project Current Status'] == 'Fully Funded']"
   ]
  },
  {
   "cell_type": "code",
   "execution_count": 149,
   "metadata": {},
   "outputs": [
    {
     "data": {
      "text/html": [
       "<div>\n",
       "<style scoped>\n",
       "    .dataframe tbody tr th:only-of-type {\n",
       "        vertical-align: middle;\n",
       "    }\n",
       "\n",
       "    .dataframe tbody tr th {\n",
       "        vertical-align: top;\n",
       "    }\n",
       "\n",
       "    .dataframe thead th {\n",
       "        text-align: right;\n",
       "    }\n",
       "</style>\n",
       "<table border=\"1\" class=\"dataframe\">\n",
       "  <thead>\n",
       "    <tr style=\"text-align: right;\">\n",
       "      <th></th>\n",
       "      <th>Project ID</th>\n",
       "      <th>School ID</th>\n",
       "      <th>Teacher ID</th>\n",
       "      <th>Teacher Project Posted Sequence</th>\n",
       "      <th>Project Type</th>\n",
       "      <th>Project Title</th>\n",
       "      <th>Project Essay</th>\n",
       "      <th>Project Short Description</th>\n",
       "      <th>Project Need Statement</th>\n",
       "      <th>Project Subject Category Tree</th>\n",
       "      <th>...</th>\n",
       "      <th>Project Grade Level Category</th>\n",
       "      <th>Project Resource Category</th>\n",
       "      <th>Project Cost</th>\n",
       "      <th>Project Posted Date</th>\n",
       "      <th>Project Expiration Date</th>\n",
       "      <th>Project Current Status</th>\n",
       "      <th>Project Fully Funded Date</th>\n",
       "      <th>Year Posted</th>\n",
       "      <th>Month Posted</th>\n",
       "      <th>Duration</th>\n",
       "    </tr>\n",
       "  </thead>\n",
       "  <tbody>\n",
       "    <tr>\n",
       "      <th>1079744</th>\n",
       "      <td>040a74c5c15ecfc562e4ad8f22a21ac5</td>\n",
       "      <td>789244791990bb21577ef8281f2234ae</td>\n",
       "      <td>66ef8da92cfef6d5924a70ee5aa455f7</td>\n",
       "      <td>1</td>\n",
       "      <td>Teacher-Led</td>\n",
       "      <td>Sprint to Success</td>\n",
       "      <td>Our middle school is comprised of 6th, 7th, an...</td>\n",
       "      <td>Our middle school is comprised of 6th, 7th, an...</td>\n",
       "      <td>My students need a set of ASICS and Saucony te...</td>\n",
       "      <td>Health &amp; Sports</td>\n",
       "      <td>...</td>\n",
       "      <td>Grades 6-8</td>\n",
       "      <td>Books</td>\n",
       "      <td>1005.41</td>\n",
       "      <td>2018-04-09</td>\n",
       "      <td>2018-08-06</td>\n",
       "      <td>Fully Funded</td>\n",
       "      <td>2018-05-11</td>\n",
       "      <td>2018</td>\n",
       "      <td>4</td>\n",
       "      <td>32 days</td>\n",
       "    </tr>\n",
       "    <tr>\n",
       "      <th>1103249</th>\n",
       "      <td>1b2f77aab318479bac4c48a8bcea21c2</td>\n",
       "      <td>652401658f48af2323bbbef6671873fb</td>\n",
       "      <td>bd30a5f23d995f2b7617b390ef40f717</td>\n",
       "      <td>17</td>\n",
       "      <td>Teacher-Led</td>\n",
       "      <td>My Students Are the Future!</td>\n",
       "      <td>I have the pleasure of teaching some of the mo...</td>\n",
       "      <td>I have the pleasure of teaching some of the mo...</td>\n",
       "      <td>My students need Chromebooks to build their ma...</td>\n",
       "      <td>Math &amp; Science</td>\n",
       "      <td>...</td>\n",
       "      <td>Grades 6-8</td>\n",
       "      <td>Computers &amp; Tablets</td>\n",
       "      <td>839.98</td>\n",
       "      <td>2018-04-25</td>\n",
       "      <td>2018-09-08</td>\n",
       "      <td>Fully Funded</td>\n",
       "      <td>2018-05-11</td>\n",
       "      <td>2018</td>\n",
       "      <td>4</td>\n",
       "      <td>16 days</td>\n",
       "    </tr>\n",
       "    <tr>\n",
       "      <th>1081323</th>\n",
       "      <td>05376f378858fb8435c4bf34a337f5c2</td>\n",
       "      <td>2f8266e9c397d5954dd55325304677e5</td>\n",
       "      <td>1d8b50aeef51bca92057d3f470ffa61e</td>\n",
       "      <td>3</td>\n",
       "      <td>Teacher-Led</td>\n",
       "      <td>Flexible Seating</td>\n",
       "      <td>My kindergarten students are full of energy an...</td>\n",
       "      <td>My kindergarten students are full of energy an...</td>\n",
       "      <td>My students need flexible seating options to i...</td>\n",
       "      <td>Applied Learning, Health &amp; Sports</td>\n",
       "      <td>...</td>\n",
       "      <td>Grades PreK-2</td>\n",
       "      <td>Flexible Seating</td>\n",
       "      <td>579.67</td>\n",
       "      <td>2018-04-10</td>\n",
       "      <td>2018-08-07</td>\n",
       "      <td>Fully Funded</td>\n",
       "      <td>2018-05-11</td>\n",
       "      <td>2018</td>\n",
       "      <td>4</td>\n",
       "      <td>31 days</td>\n",
       "    </tr>\n",
       "    <tr>\n",
       "      <th>1076930</th>\n",
       "      <td>f67a7ac484cf1791d654b498291fe5c2</td>\n",
       "      <td>1f02c3fe18654db1146ba83bd5aea3eb</td>\n",
       "      <td>0f617945d0c0c2bbe2cbac6b18c33f0a</td>\n",
       "      <td>8</td>\n",
       "      <td>Teacher-Led</td>\n",
       "      <td>Setting Up for Reading Success</td>\n",
       "      <td>\"Can we read all day?\"  That is the phrase I h...</td>\n",
       "      <td>\"Can we read all day?\" That is the phrase I he...</td>\n",
       "      <td>My students need our library to be accessible ...</td>\n",
       "      <td>Literacy &amp; Language</td>\n",
       "      <td>...</td>\n",
       "      <td>Grades 3-5</td>\n",
       "      <td>Educational Kits &amp; Games</td>\n",
       "      <td>523.58</td>\n",
       "      <td>2018-04-08</td>\n",
       "      <td>2018-08-05</td>\n",
       "      <td>Fully Funded</td>\n",
       "      <td>2018-05-11</td>\n",
       "      <td>2018</td>\n",
       "      <td>4</td>\n",
       "      <td>33 days</td>\n",
       "    </tr>\n",
       "    <tr>\n",
       "      <th>1088016</th>\n",
       "      <td>af9ccf0fc1f0ea26f60210fe1a13709e</td>\n",
       "      <td>13d0698b73cdd759b0a2e39b4198832a</td>\n",
       "      <td>5b627a04f78d74e8fad651e559c42119</td>\n",
       "      <td>13</td>\n",
       "      <td>Teacher-Led</td>\n",
       "      <td>A Whole New Classroom!</td>\n",
       "      <td>As a fourth-year teacher, I am thrilled to be ...</td>\n",
       "      <td>As a fourth-year teacher, I am thrilled to be ...</td>\n",
       "      <td>My students need signs, posters, and nametags ...</td>\n",
       "      <td>Literacy &amp; Language, Math &amp; Science</td>\n",
       "      <td>...</td>\n",
       "      <td>Grades PreK-2</td>\n",
       "      <td>Art Supplies</td>\n",
       "      <td>746.99</td>\n",
       "      <td>2018-04-15</td>\n",
       "      <td>2018-08-10</td>\n",
       "      <td>Fully Funded</td>\n",
       "      <td>2018-05-11</td>\n",
       "      <td>2018</td>\n",
       "      <td>4</td>\n",
       "      <td>26 days</td>\n",
       "    </tr>\n",
       "  </tbody>\n",
       "</table>\n",
       "<p>5 rows × 21 columns</p>\n",
       "</div>"
      ],
      "text/plain": [
       "                               Project ID                         School ID  \\\n",
       "1079744  040a74c5c15ecfc562e4ad8f22a21ac5  789244791990bb21577ef8281f2234ae   \n",
       "1103249  1b2f77aab318479bac4c48a8bcea21c2  652401658f48af2323bbbef6671873fb   \n",
       "1081323  05376f378858fb8435c4bf34a337f5c2  2f8266e9c397d5954dd55325304677e5   \n",
       "1076930  f67a7ac484cf1791d654b498291fe5c2  1f02c3fe18654db1146ba83bd5aea3eb   \n",
       "1088016  af9ccf0fc1f0ea26f60210fe1a13709e  13d0698b73cdd759b0a2e39b4198832a   \n",
       "\n",
       "                               Teacher ID  Teacher Project Posted Sequence  \\\n",
       "1079744  66ef8da92cfef6d5924a70ee5aa455f7                                1   \n",
       "1103249  bd30a5f23d995f2b7617b390ef40f717                               17   \n",
       "1081323  1d8b50aeef51bca92057d3f470ffa61e                                3   \n",
       "1076930  0f617945d0c0c2bbe2cbac6b18c33f0a                                8   \n",
       "1088016  5b627a04f78d74e8fad651e559c42119                               13   \n",
       "\n",
       "        Project Type                   Project Title  \\\n",
       "1079744  Teacher-Led               Sprint to Success   \n",
       "1103249  Teacher-Led     My Students Are the Future!   \n",
       "1081323  Teacher-Led                Flexible Seating   \n",
       "1076930  Teacher-Led  Setting Up for Reading Success   \n",
       "1088016  Teacher-Led          A Whole New Classroom!   \n",
       "\n",
       "                                             Project Essay  \\\n",
       "1079744  Our middle school is comprised of 6th, 7th, an...   \n",
       "1103249  I have the pleasure of teaching some of the mo...   \n",
       "1081323  My kindergarten students are full of energy an...   \n",
       "1076930  \"Can we read all day?\"  That is the phrase I h...   \n",
       "1088016  As a fourth-year teacher, I am thrilled to be ...   \n",
       "\n",
       "                                 Project Short Description  \\\n",
       "1079744  Our middle school is comprised of 6th, 7th, an...   \n",
       "1103249  I have the pleasure of teaching some of the mo...   \n",
       "1081323  My kindergarten students are full of energy an...   \n",
       "1076930  \"Can we read all day?\" That is the phrase I he...   \n",
       "1088016  As a fourth-year teacher, I am thrilled to be ...   \n",
       "\n",
       "                                    Project Need Statement  \\\n",
       "1079744  My students need a set of ASICS and Saucony te...   \n",
       "1103249  My students need Chromebooks to build their ma...   \n",
       "1081323  My students need flexible seating options to i...   \n",
       "1076930  My students need our library to be accessible ...   \n",
       "1088016  My students need signs, posters, and nametags ...   \n",
       "\n",
       "               Project Subject Category Tree  ...  \\\n",
       "1079744                      Health & Sports  ...   \n",
       "1103249                       Math & Science  ...   \n",
       "1081323    Applied Learning, Health & Sports  ...   \n",
       "1076930                  Literacy & Language  ...   \n",
       "1088016  Literacy & Language, Math & Science  ...   \n",
       "\n",
       "        Project Grade Level Category Project Resource Category Project Cost  \\\n",
       "1079744                   Grades 6-8                     Books      1005.41   \n",
       "1103249                   Grades 6-8       Computers & Tablets       839.98   \n",
       "1081323                Grades PreK-2          Flexible Seating       579.67   \n",
       "1076930                   Grades 3-5  Educational Kits & Games       523.58   \n",
       "1088016                Grades PreK-2              Art Supplies       746.99   \n",
       "\n",
       "         Project Posted Date Project Expiration Date Project Current Status  \\\n",
       "1079744           2018-04-09              2018-08-06           Fully Funded   \n",
       "1103249           2018-04-25              2018-09-08           Fully Funded   \n",
       "1081323           2018-04-10              2018-08-07           Fully Funded   \n",
       "1076930           2018-04-08              2018-08-05           Fully Funded   \n",
       "1088016           2018-04-15              2018-08-10           Fully Funded   \n",
       "\n",
       "        Project Fully Funded Date Year Posted  Month Posted  Duration  \n",
       "1079744                2018-05-11        2018             4   32 days  \n",
       "1103249                2018-05-11        2018             4   16 days  \n",
       "1081323                2018-05-11        2018             4   31 days  \n",
       "1076930                2018-05-11        2018             4   33 days  \n",
       "1088016                2018-05-11        2018             4   26 days  \n",
       "\n",
       "[5 rows x 21 columns]"
      ]
     },
     "execution_count": 149,
     "metadata": {},
     "output_type": "execute_result"
    }
   ],
   "source": [
    "projects.head()"
   ]
  },
  {
   "cell_type": "code",
   "execution_count": 143,
   "metadata": {},
   "outputs": [],
   "source": [
    "projects['Duration'] = pd.to_datetime(projects['Project Fully Funded Date']) - pd.to_datetime(projects['Project Posted Date'])"
   ]
  },
  {
   "cell_type": "code",
   "execution_count": 151,
   "metadata": {},
   "outputs": [
    {
     "data": {
      "text/html": [
       "<div>\n",
       "<style scoped>\n",
       "    .dataframe tbody tr th:only-of-type {\n",
       "        vertical-align: middle;\n",
       "    }\n",
       "\n",
       "    .dataframe tbody tr th {\n",
       "        vertical-align: top;\n",
       "    }\n",
       "\n",
       "    .dataframe thead th {\n",
       "        text-align: right;\n",
       "    }\n",
       "</style>\n",
       "<table border=\"1\" class=\"dataframe\">\n",
       "  <thead>\n",
       "    <tr style=\"text-align: right;\">\n",
       "      <th></th>\n",
       "      <th>Project ID</th>\n",
       "      <th>School ID</th>\n",
       "      <th>Teacher ID</th>\n",
       "      <th>Teacher Project Posted Sequence</th>\n",
       "      <th>Project Type</th>\n",
       "      <th>Project Title</th>\n",
       "      <th>Project Essay</th>\n",
       "      <th>Project Short Description</th>\n",
       "      <th>Project Need Statement</th>\n",
       "      <th>Project Subject Category Tree</th>\n",
       "      <th>...</th>\n",
       "      <th>Project Grade Level Category</th>\n",
       "      <th>Project Resource Category</th>\n",
       "      <th>Project Cost</th>\n",
       "      <th>Project Posted Date</th>\n",
       "      <th>Project Expiration Date</th>\n",
       "      <th>Project Current Status</th>\n",
       "      <th>Project Fully Funded Date</th>\n",
       "      <th>Year Posted</th>\n",
       "      <th>Month Posted</th>\n",
       "      <th>Duration</th>\n",
       "    </tr>\n",
       "  </thead>\n",
       "  <tbody>\n",
       "    <tr>\n",
       "      <th>194</th>\n",
       "      <td>2299efb8faeb12a29ae0de25eff50073</td>\n",
       "      <td>1bb00e346c3788a1c90ad5408248b39d</td>\n",
       "      <td>ff141708fa635690cdd087976b75a6fc</td>\n",
       "      <td>18</td>\n",
       "      <td>Teacher-Led</td>\n",
       "      <td>We Love Froggy, Junie B. Jones, Clifford, and ...</td>\n",
       "      <td>There are some characters who are just so char...</td>\n",
       "      <td>There are some characters who are just so char...</td>\n",
       "      <td>My students need books about our favorite char...</td>\n",
       "      <td>Literacy &amp; Language</td>\n",
       "      <td>...</td>\n",
       "      <td>Grades PreK-2</td>\n",
       "      <td>Books</td>\n",
       "      <td>410.54</td>\n",
       "      <td>2013-01-01</td>\n",
       "      <td>2013-05-30</td>\n",
       "      <td>Fully Funded</td>\n",
       "      <td>2013-01-01</td>\n",
       "      <td>2013</td>\n",
       "      <td>1</td>\n",
       "      <td>0 days</td>\n",
       "    </tr>\n",
       "    <tr>\n",
       "      <th>267773</th>\n",
       "      <td>751510e14acd6e50778f61c9aa2f81a4</td>\n",
       "      <td>4bd9b43eb3fb4aa92a0a39e1deb1e470</td>\n",
       "      <td>c46f62f08dc3dfbe29dc8495b0c2bc73</td>\n",
       "      <td>22</td>\n",
       "      <td>Teacher-Led</td>\n",
       "      <td>Expanding Math Knowledge</td>\n",
       "      <td>I work with students who have autism. We work ...</td>\n",
       "      <td>I work with students who have autism. We work ...</td>\n",
       "      <td>My students need 2 math place value number str...</td>\n",
       "      <td>Math &amp; Science, Special Needs</td>\n",
       "      <td>...</td>\n",
       "      <td>Grades PreK-2</td>\n",
       "      <td>Supplies</td>\n",
       "      <td>215.48</td>\n",
       "      <td>2014-11-09</td>\n",
       "      <td>2015-03-08</td>\n",
       "      <td>Fully Funded</td>\n",
       "      <td>2014-11-09</td>\n",
       "      <td>2014</td>\n",
       "      <td>11</td>\n",
       "      <td>0 days</td>\n",
       "    </tr>\n",
       "    <tr>\n",
       "      <th>696136</th>\n",
       "      <td>dbad4dbbeb16afecf846b2eb12f73a62</td>\n",
       "      <td>e664166f22b3c971ea48a51373c324ee</td>\n",
       "      <td>7b7104a2b2a68dca8f488712dd4320d3</td>\n",
       "      <td>4</td>\n",
       "      <td>Teacher-Led</td>\n",
       "      <td>Visual Timers for Students with Special Needs</td>\n",
       "      <td>My students are 4th and 5th graders with a var...</td>\n",
       "      <td>My students are 4th and 5th graders with a var...</td>\n",
       "      <td>My students need visual timers to support thei...</td>\n",
       "      <td>Special Needs</td>\n",
       "      <td>...</td>\n",
       "      <td>Grades 3-5</td>\n",
       "      <td>Supplies</td>\n",
       "      <td>176.96</td>\n",
       "      <td>2016-12-08</td>\n",
       "      <td>2017-04-07</td>\n",
       "      <td>Fully Funded</td>\n",
       "      <td>2016-12-08</td>\n",
       "      <td>2016</td>\n",
       "      <td>12</td>\n",
       "      <td>0 days</td>\n",
       "    </tr>\n",
       "    <tr>\n",
       "      <th>1006348</th>\n",
       "      <td>ee17d7419beb438e7fd3be5c2c286384</td>\n",
       "      <td>81adc7b1c6a6fc584b8e24e40e96479e</td>\n",
       "      <td>c47898b0fdd504e0cb666d8a46863547</td>\n",
       "      <td>3</td>\n",
       "      <td>Teacher-Led</td>\n",
       "      <td>Flexible Seats for Flexible Learners</td>\n",
       "      <td>As a teacher in a school district with diverse...</td>\n",
       "      <td>As a teacher in a school district with diverse...</td>\n",
       "      <td>My students need flexible seating options to s...</td>\n",
       "      <td>History &amp; Civics, Special Needs</td>\n",
       "      <td>...</td>\n",
       "      <td>Grades 6-8</td>\n",
       "      <td>Flexible Seating</td>\n",
       "      <td>378.94</td>\n",
       "      <td>2018-01-30</td>\n",
       "      <td>2018-05-28</td>\n",
       "      <td>Fully Funded</td>\n",
       "      <td>2018-01-30</td>\n",
       "      <td>2018</td>\n",
       "      <td>1</td>\n",
       "      <td>0 days</td>\n",
       "    </tr>\n",
       "    <tr>\n",
       "      <th>696147</th>\n",
       "      <td>5d3a2b48228f57965a2fa481b7108f77</td>\n",
       "      <td>d15edfdb71e75d44fd99027e86957c66</td>\n",
       "      <td>9018ff573c8074c9eb3b45ac7c051601</td>\n",
       "      <td>1</td>\n",
       "      <td>Teacher-Led</td>\n",
       "      <td>Dinosaurs, Native Americans, Buses...Oh My!</td>\n",
       "      <td>The 4th graders at my school are phenomenal st...</td>\n",
       "      <td>The 4th graders at my school are phenomenal st...</td>\n",
       "      <td>My students need help raising money to be able...</td>\n",
       "      <td>History &amp; Civics</td>\n",
       "      <td>...</td>\n",
       "      <td>Grades 3-5</td>\n",
       "      <td>Trips</td>\n",
       "      <td>171.42</td>\n",
       "      <td>2016-12-08</td>\n",
       "      <td>2017-01-17</td>\n",
       "      <td>Fully Funded</td>\n",
       "      <td>2016-12-08</td>\n",
       "      <td>2016</td>\n",
       "      <td>12</td>\n",
       "      <td>0 days</td>\n",
       "    </tr>\n",
       "    <tr>\n",
       "      <th>...</th>\n",
       "      <td>...</td>\n",
       "      <td>...</td>\n",
       "      <td>...</td>\n",
       "      <td>...</td>\n",
       "      <td>...</td>\n",
       "      <td>...</td>\n",
       "      <td>...</td>\n",
       "      <td>...</td>\n",
       "      <td>...</td>\n",
       "      <td>...</td>\n",
       "      <td>...</td>\n",
       "      <td>...</td>\n",
       "      <td>...</td>\n",
       "      <td>...</td>\n",
       "      <td>...</td>\n",
       "      <td>...</td>\n",
       "      <td>...</td>\n",
       "      <td>...</td>\n",
       "      <td>...</td>\n",
       "      <td>...</td>\n",
       "      <td>...</td>\n",
       "    </tr>\n",
       "    <tr>\n",
       "      <th>558077</th>\n",
       "      <td>0af906d8feb3b8c5d1f85ce675394187</td>\n",
       "      <td>5a9ef14b90dbae7cc682dfdea85977e1</td>\n",
       "      <td>64f51b079c85892f33ead08b6f94228a</td>\n",
       "      <td>48</td>\n",
       "      <td>Teacher-Led</td>\n",
       "      <td>Ballet is the Way! To Grow Your Mind Each Day!</td>\n",
       "      <td>My Amazing Dancers! I teach the most eager and...</td>\n",
       "      <td>My Amazing Dancers! I teach the most eager and...</td>\n",
       "      <td>My students need ballet lessons from the renow...</td>\n",
       "      <td>Music &amp; The Arts, Special Needs</td>\n",
       "      <td>...</td>\n",
       "      <td>Grades 3-5</td>\n",
       "      <td>Visitors</td>\n",
       "      <td>6005.88</td>\n",
       "      <td>2016-07-06</td>\n",
       "      <td>2017-02-05</td>\n",
       "      <td>Fully Funded</td>\n",
       "      <td>2017-01-31</td>\n",
       "      <td>2016</td>\n",
       "      <td>7</td>\n",
       "      <td>209 days</td>\n",
       "    </tr>\n",
       "    <tr>\n",
       "      <th>819378</th>\n",
       "      <td>8546e8ce75e3f2524930ab4ed83e102c</td>\n",
       "      <td>34b9225a406bc734164ee1a58bf5bfae</td>\n",
       "      <td>4e0975ac1c0789f35f8e4e0b09644ede</td>\n",
       "      <td>176</td>\n",
       "      <td>Student-Led</td>\n",
       "      <td>Field Trip to the Bronx Zoo Treetop Adventure</td>\n",
       "      <td>I work at a year-round special education schoo...</td>\n",
       "      <td>I work at a year-round special education schoo...</td>\n",
       "      <td>We need funding for the Bronx Zoo Treetop Adve...</td>\n",
       "      <td>Health &amp; Sports, Special Needs</td>\n",
       "      <td>...</td>\n",
       "      <td>Grades 9-12</td>\n",
       "      <td>Trips</td>\n",
       "      <td>930.28</td>\n",
       "      <td>2017-07-15</td>\n",
       "      <td>2018-02-14</td>\n",
       "      <td>Fully Funded</td>\n",
       "      <td>2018-02-12</td>\n",
       "      <td>2017</td>\n",
       "      <td>7</td>\n",
       "      <td>212 days</td>\n",
       "    </tr>\n",
       "    <tr>\n",
       "      <th>165915</th>\n",
       "      <td>84032093d7bd7bddcebbe4485e5576d5</td>\n",
       "      <td>be69c0cc186137040f4ba736f0b852b8</td>\n",
       "      <td>c1219f1328ba656607254fa9b8fa0459</td>\n",
       "      <td>5</td>\n",
       "      <td>Teacher-Led</td>\n",
       "      <td>Reliving the Past: American Revolution Farm Fi...</td>\n",
       "      <td>My students love to talk about their learning....</td>\n",
       "      <td>My students love to talk about their learning....</td>\n",
       "      <td>My students need to go on a field trip connect...</td>\n",
       "      <td>History &amp; Civics</td>\n",
       "      <td>...</td>\n",
       "      <td>Grades 3-5</td>\n",
       "      <td>Trips</td>\n",
       "      <td>2221.72</td>\n",
       "      <td>2014-05-05</td>\n",
       "      <td>2015-02-07</td>\n",
       "      <td>Fully Funded</td>\n",
       "      <td>2014-12-16</td>\n",
       "      <td>2014</td>\n",
       "      <td>5</td>\n",
       "      <td>225 days</td>\n",
       "    </tr>\n",
       "    <tr>\n",
       "      <th>363180</th>\n",
       "      <td>4e8f7623d27a53ed307c4e5a07d7e946</td>\n",
       "      <td>e1e7fa17a1a6ddd8f4087505b1ee68fe</td>\n",
       "      <td>5d083f5289eb5d74999fde0999b59c22</td>\n",
       "      <td>3</td>\n",
       "      <td>Teacher-Led</td>\n",
       "      <td>We Want To Build A Robot To Take Over The World</td>\n",
       "      <td>My students are working above grade level in m...</td>\n",
       "      <td>My students are working above grade level in m...</td>\n",
       "      <td>My students need 12 robotics kits and the comp...</td>\n",
       "      <td>Math &amp; Science, Literacy &amp; Language</td>\n",
       "      <td>...</td>\n",
       "      <td>Grades 3-5</td>\n",
       "      <td>Technology</td>\n",
       "      <td>4449.62</td>\n",
       "      <td>2015-08-12</td>\n",
       "      <td>2016-05-01</td>\n",
       "      <td>Fully Funded</td>\n",
       "      <td>2016-04-18</td>\n",
       "      <td>2015</td>\n",
       "      <td>8</td>\n",
       "      <td>250 days</td>\n",
       "    </tr>\n",
       "    <tr>\n",
       "      <th>281613</th>\n",
       "      <td>6cd34a4cdc0c68f55ac309cdabb77b32</td>\n",
       "      <td>2ed21e9897be9b0bcee281e2a845bad0</td>\n",
       "      <td>fac06fc44938d30d54c843dba0bebcb5</td>\n",
       "      <td>2</td>\n",
       "      <td>Teacher-Led</td>\n",
       "      <td>Empty Bowls, Full Hearts.</td>\n",
       "      <td>My students want to give back and impact their...</td>\n",
       "      <td>My students want to give back and impact their...</td>\n",
       "      <td>My students need a slab roller for clay to use...</td>\n",
       "      <td>Applied Learning, Music &amp; The Arts</td>\n",
       "      <td>...</td>\n",
       "      <td>Grades 6-8</td>\n",
       "      <td>Supplies</td>\n",
       "      <td>1982.94</td>\n",
       "      <td>2014-12-20</td>\n",
       "      <td>2015-11-11</td>\n",
       "      <td>Fully Funded</td>\n",
       "      <td>2015-10-04</td>\n",
       "      <td>2014</td>\n",
       "      <td>12</td>\n",
       "      <td>288 days</td>\n",
       "    </tr>\n",
       "  </tbody>\n",
       "</table>\n",
       "<p>826764 rows × 21 columns</p>\n",
       "</div>"
      ],
      "text/plain": [
       "                               Project ID                         School ID  \\\n",
       "194      2299efb8faeb12a29ae0de25eff50073  1bb00e346c3788a1c90ad5408248b39d   \n",
       "267773   751510e14acd6e50778f61c9aa2f81a4  4bd9b43eb3fb4aa92a0a39e1deb1e470   \n",
       "696136   dbad4dbbeb16afecf846b2eb12f73a62  e664166f22b3c971ea48a51373c324ee   \n",
       "1006348  ee17d7419beb438e7fd3be5c2c286384  81adc7b1c6a6fc584b8e24e40e96479e   \n",
       "696147   5d3a2b48228f57965a2fa481b7108f77  d15edfdb71e75d44fd99027e86957c66   \n",
       "...                                   ...                               ...   \n",
       "558077   0af906d8feb3b8c5d1f85ce675394187  5a9ef14b90dbae7cc682dfdea85977e1   \n",
       "819378   8546e8ce75e3f2524930ab4ed83e102c  34b9225a406bc734164ee1a58bf5bfae   \n",
       "165915   84032093d7bd7bddcebbe4485e5576d5  be69c0cc186137040f4ba736f0b852b8   \n",
       "363180   4e8f7623d27a53ed307c4e5a07d7e946  e1e7fa17a1a6ddd8f4087505b1ee68fe   \n",
       "281613   6cd34a4cdc0c68f55ac309cdabb77b32  2ed21e9897be9b0bcee281e2a845bad0   \n",
       "\n",
       "                               Teacher ID  Teacher Project Posted Sequence  \\\n",
       "194      ff141708fa635690cdd087976b75a6fc                               18   \n",
       "267773   c46f62f08dc3dfbe29dc8495b0c2bc73                               22   \n",
       "696136   7b7104a2b2a68dca8f488712dd4320d3                                4   \n",
       "1006348  c47898b0fdd504e0cb666d8a46863547                                3   \n",
       "696147   9018ff573c8074c9eb3b45ac7c051601                                1   \n",
       "...                                   ...                              ...   \n",
       "558077   64f51b079c85892f33ead08b6f94228a                               48   \n",
       "819378   4e0975ac1c0789f35f8e4e0b09644ede                              176   \n",
       "165915   c1219f1328ba656607254fa9b8fa0459                                5   \n",
       "363180   5d083f5289eb5d74999fde0999b59c22                                3   \n",
       "281613   fac06fc44938d30d54c843dba0bebcb5                                2   \n",
       "\n",
       "        Project Type                                      Project Title  \\\n",
       "194      Teacher-Led  We Love Froggy, Junie B. Jones, Clifford, and ...   \n",
       "267773   Teacher-Led                           Expanding Math Knowledge   \n",
       "696136   Teacher-Led      Visual Timers for Students with Special Needs   \n",
       "1006348  Teacher-Led               Flexible Seats for Flexible Learners   \n",
       "696147   Teacher-Led        Dinosaurs, Native Americans, Buses...Oh My!   \n",
       "...              ...                                                ...   \n",
       "558077   Teacher-Led     Ballet is the Way! To Grow Your Mind Each Day!   \n",
       "819378   Student-Led      Field Trip to the Bronx Zoo Treetop Adventure   \n",
       "165915   Teacher-Led  Reliving the Past: American Revolution Farm Fi...   \n",
       "363180   Teacher-Led    We Want To Build A Robot To Take Over The World   \n",
       "281613   Teacher-Led                          Empty Bowls, Full Hearts.   \n",
       "\n",
       "                                             Project Essay  \\\n",
       "194      There are some characters who are just so char...   \n",
       "267773   I work with students who have autism. We work ...   \n",
       "696136   My students are 4th and 5th graders with a var...   \n",
       "1006348  As a teacher in a school district with diverse...   \n",
       "696147   The 4th graders at my school are phenomenal st...   \n",
       "...                                                    ...   \n",
       "558077   My Amazing Dancers! I teach the most eager and...   \n",
       "819378   I work at a year-round special education schoo...   \n",
       "165915   My students love to talk about their learning....   \n",
       "363180   My students are working above grade level in m...   \n",
       "281613   My students want to give back and impact their...   \n",
       "\n",
       "                                 Project Short Description  \\\n",
       "194      There are some characters who are just so char...   \n",
       "267773   I work with students who have autism. We work ...   \n",
       "696136   My students are 4th and 5th graders with a var...   \n",
       "1006348  As a teacher in a school district with diverse...   \n",
       "696147   The 4th graders at my school are phenomenal st...   \n",
       "...                                                    ...   \n",
       "558077   My Amazing Dancers! I teach the most eager and...   \n",
       "819378   I work at a year-round special education schoo...   \n",
       "165915   My students love to talk about their learning....   \n",
       "363180   My students are working above grade level in m...   \n",
       "281613   My students want to give back and impact their...   \n",
       "\n",
       "                                    Project Need Statement  \\\n",
       "194      My students need books about our favorite char...   \n",
       "267773   My students need 2 math place value number str...   \n",
       "696136   My students need visual timers to support thei...   \n",
       "1006348  My students need flexible seating options to s...   \n",
       "696147   My students need help raising money to be able...   \n",
       "...                                                    ...   \n",
       "558077   My students need ballet lessons from the renow...   \n",
       "819378   We need funding for the Bronx Zoo Treetop Adve...   \n",
       "165915   My students need to go on a field trip connect...   \n",
       "363180   My students need 12 robotics kits and the comp...   \n",
       "281613   My students need a slab roller for clay to use...   \n",
       "\n",
       "               Project Subject Category Tree  ...  \\\n",
       "194                      Literacy & Language  ...   \n",
       "267773         Math & Science, Special Needs  ...   \n",
       "696136                         Special Needs  ...   \n",
       "1006348      History & Civics, Special Needs  ...   \n",
       "696147                      History & Civics  ...   \n",
       "...                                      ...  ...   \n",
       "558077       Music & The Arts, Special Needs  ...   \n",
       "819378        Health & Sports, Special Needs  ...   \n",
       "165915                      History & Civics  ...   \n",
       "363180   Math & Science, Literacy & Language  ...   \n",
       "281613    Applied Learning, Music & The Arts  ...   \n",
       "\n",
       "        Project Grade Level Category Project Resource Category Project Cost  \\\n",
       "194                    Grades PreK-2                     Books       410.54   \n",
       "267773                 Grades PreK-2                  Supplies       215.48   \n",
       "696136                    Grades 3-5                  Supplies       176.96   \n",
       "1006348                   Grades 6-8          Flexible Seating       378.94   \n",
       "696147                    Grades 3-5                     Trips       171.42   \n",
       "...                              ...                       ...          ...   \n",
       "558077                    Grades 3-5                  Visitors      6005.88   \n",
       "819378                   Grades 9-12                     Trips       930.28   \n",
       "165915                    Grades 3-5                     Trips      2221.72   \n",
       "363180                    Grades 3-5                Technology      4449.62   \n",
       "281613                    Grades 6-8                  Supplies      1982.94   \n",
       "\n",
       "         Project Posted Date Project Expiration Date Project Current Status  \\\n",
       "194               2013-01-01              2013-05-30           Fully Funded   \n",
       "267773            2014-11-09              2015-03-08           Fully Funded   \n",
       "696136            2016-12-08              2017-04-07           Fully Funded   \n",
       "1006348           2018-01-30              2018-05-28           Fully Funded   \n",
       "696147            2016-12-08              2017-01-17           Fully Funded   \n",
       "...                      ...                     ...                    ...   \n",
       "558077            2016-07-06              2017-02-05           Fully Funded   \n",
       "819378            2017-07-15              2018-02-14           Fully Funded   \n",
       "165915            2014-05-05              2015-02-07           Fully Funded   \n",
       "363180            2015-08-12              2016-05-01           Fully Funded   \n",
       "281613            2014-12-20              2015-11-11           Fully Funded   \n",
       "\n",
       "        Project Fully Funded Date Year Posted  Month Posted  Duration  \n",
       "194                    2013-01-01        2013             1    0 days  \n",
       "267773                 2014-11-09        2014            11    0 days  \n",
       "696136                 2016-12-08        2016            12    0 days  \n",
       "1006348                2018-01-30        2018             1    0 days  \n",
       "696147                 2016-12-08        2016            12    0 days  \n",
       "...                           ...         ...           ...       ...  \n",
       "558077                 2017-01-31        2016             7  209 days  \n",
       "819378                 2018-02-12        2017             7  212 days  \n",
       "165915                 2014-12-16        2014             5  225 days  \n",
       "363180                 2016-04-18        2015             8  250 days  \n",
       "281613                 2015-10-04        2014            12  288 days  \n",
       "\n",
       "[826764 rows x 21 columns]"
      ]
     },
     "execution_count": 151,
     "metadata": {},
     "output_type": "execute_result"
    }
   ],
   "source": [
    "projects.sort_values('Duration')"
   ]
  },
  {
   "cell_type": "code",
   "execution_count": 153,
   "metadata": {},
   "outputs": [
    {
     "data": {
      "text/plain": [
       "'32 days 01:52:26.871418'"
      ]
     },
     "execution_count": 153,
     "metadata": {},
     "output_type": "execute_result"
    }
   ],
   "source": [
    "str(projects['Duration'].mean())"
   ]
  }
 ],
 "metadata": {
  "kernelspec": {
   "display_name": "Python 3",
   "language": "python",
   "name": "python3"
  },
  "language_info": {
   "codemirror_mode": {
    "name": "ipython",
    "version": 3
   },
   "file_extension": ".py",
   "mimetype": "text/x-python",
   "name": "python",
   "nbconvert_exporter": "python",
   "pygments_lexer": "ipython3",
   "version": "3.8.3"
  }
 },
 "nbformat": 4,
 "nbformat_minor": 4
}
